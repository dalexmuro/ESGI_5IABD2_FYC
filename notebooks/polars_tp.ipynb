{
 "cells": [
  {
   "cell_type": "code",
   "execution_count": null,
   "id": "9ed4a0cd",
   "metadata": {},
   "outputs": [],
   "source": [
    "!pip install opendatasets --upgrade --quiet\n",
    "!pip install polars --upgrade --quiet"
   ]
  },
  {
   "cell_type": "code",
   "execution_count": 24,
   "id": "initial_id",
   "metadata": {
    "ExecuteTime": {
     "end_time": "2024-01-16T10:44:26.595037800Z",
     "start_time": "2024-01-16T10:44:26.590477600Z"
    },
    "collapsed": true
   },
   "outputs": [],
   "source": [
    "import polars as pl\n",
    "import pandas as pd\n",
    "import opendatasets as od\n",
    "import time\n",
    "import os"
   ]
  },
  {
   "cell_type": "code",
   "execution_count": null,
   "id": "71cceb56",
   "metadata": {},
   "outputs": [],
   "source": [
    "dataset = 'https://www.kaggle.com/datasets/mkechinov/ecommerce-behavior-data-from-multi-category-store'\n"
   ]
  },
  {
   "cell_type": "code",
   "execution_count": 25,
   "id": "945b72a1cd881608",
   "metadata": {
    "ExecuteTime": {
     "end_time": "2024-01-16T10:44:28.083903800Z",
     "start_time": "2024-01-16T10:44:28.080765100Z"
    },
    "collapsed": false
   },
   "outputs": [],
   "source": [
    "data_oct = './ecommerce-behavior-data-from-multi-category-store/2019-Oct.csv'\n",
    "data_nov = './ecommerce-behavior-data-from-multi-category-store/2019-Nov.csv'\n",
    "timing_path = '../stats/timings.csv' "
   ]
  },
  {
   "cell_type": "code",
   "execution_count": null,
   "id": "35bce072",
   "metadata": {},
   "outputs": [],
   "source": [
    "if not(os.path.exists(data_oct) and os.path.exists(data_nov)):\n",
    "    od.download(dataset)"
   ]
  },
  {
   "cell_type": "code",
   "execution_count": 46,
   "id": "c267da5cd708a142",
   "metadata": {
    "ExecuteTime": {
     "end_time": "2024-01-16T12:50:37.370432500Z",
     "start_time": "2024-01-16T12:50:37.362705300Z"
    },
    "collapsed": false
   },
   "outputs": [],
   "source": [
    "if os.path.exists(timing_path):\n",
    "    timing = pd.read_csv(timing_path, index_col=0)\n",
    "else:\n",
    "    timing = pd.DataFrame(columns=['Timing_Pandas', 'Timing_Polars'])"
   ]
  },
  {
   "cell_type": "markdown",
   "id": "b8fbac5f95cafdae",
   "metadata": {
    "collapsed": false
   },
   "source": [
    "1. Lecture des deux jeux de données et concatenation dans un seul dataset"
   ]
  },
  {
   "cell_type": "code",
   "execution_count": 27,
   "id": "cb2039b85b04e6c",
   "metadata": {
    "ExecuteTime": {
     "end_time": "2024-01-16T10:47:08.934636400Z",
     "start_time": "2024-01-16T10:46:45.195749800Z"
    },
    "collapsed": false
   },
   "outputs": [
    {
     "name": "stdout",
     "output_type": "stream",
     "text": [
      "Temps d'exécution de l'exercise 1 : 23.74 secondes\n"
     ]
    }
   ],
   "source": [
    "ex = 1\n",
    "\n",
    "start_time = time.time()\n",
    "\n",
    "data_raw_oct = pl.read_csv(data_oct)\n",
    "data_raw_nov = pl.read_csv(data_nov)\n",
    "\n",
    "data = pl.concat([data_raw_oct, data_raw_nov])\n",
    "\n",
    "end_time = time.time()\n",
    "\n",
    "execution_time = round(end_time - start_time, 2)\n",
    "\n",
    "timing.loc[ex, 'Timing_Polars'] = execution_time\n",
    "\n",
    "print(f\"Temps d'exécution de l'exercise {ex} : {execution_time} secondes\")"
   ]
  },
  {
   "cell_type": "markdown",
   "id": "5a80278a20771491",
   "metadata": {
    "collapsed": false
   },
   "source": [
    "2.\tAffichage des informations basiques du jeu de données : quantité de lignes, colonnes, types des données, etc."
   ]
  },
  {
   "cell_type": "code",
   "execution_count": 29,
   "id": "ff13c85768039e55",
   "metadata": {
    "ExecuteTime": {
     "end_time": "2024-01-16T10:59:30.266322100Z",
     "start_time": "2024-01-16T10:59:26.835433800Z"
    },
    "collapsed": false
   },
   "outputs": [
    {
     "name": "stdout",
     "output_type": "stream",
     "text": [
      "Quantité de lignes : 109950743\n",
      "shape: (5, 9)\n",
      "┌────────────┬────────────┬───────────┬───────────┬───┬──────────┬─────────┬───────────┬───────────┐\n",
      "│ event_time ┆ event_type ┆ product_i ┆ category_ ┆ … ┆ brand    ┆ price   ┆ user_id   ┆ user_sess │\n",
      "│ ---        ┆ ---        ┆ d         ┆ id        ┆   ┆ ---      ┆ ---     ┆ ---       ┆ ion       │\n",
      "│ str        ┆ str        ┆ ---       ┆ ---       ┆   ┆ str      ┆ f64     ┆ i64       ┆ ---       │\n",
      "│            ┆            ┆ i64       ┆ i64       ┆   ┆          ┆         ┆           ┆ str       │\n",
      "╞════════════╪════════════╪═══════════╪═══════════╪═══╪══════════╪═════════╪═══════════╪═══════════╡\n",
      "│ 2019-10-01 ┆ view       ┆ 44600062  ┆ 210380745 ┆ … ┆ shiseido ┆ 35.79   ┆ 541312140 ┆ 72d76fde- │\n",
      "│ 00:00:00   ┆            ┆           ┆ 959538772 ┆   ┆          ┆         ┆           ┆ 8bb3-4e00 │\n",
      "│ UTC        ┆            ┆           ┆ 4         ┆   ┆          ┆         ┆           ┆ -8c23-a03 │\n",
      "│            ┆            ┆           ┆           ┆   ┆          ┆         ┆           ┆ 2dfed…    │\n",
      "│ 2019-10-01 ┆ view       ┆ 3900821   ┆ 205301355 ┆ … ┆ aqua     ┆ 33.2    ┆ 554748717 ┆ 9333dfbd- │\n",
      "│ 00:00:00   ┆            ┆           ┆ 232677090 ┆   ┆          ┆         ┆           ┆ b87a-4708 │\n",
      "│ UTC        ┆            ┆           ┆ 5         ┆   ┆          ┆         ┆           ┆ -9857-633 │\n",
      "│            ┆            ┆           ┆           ┆   ┆          ┆         ┆           ┆ 6556b…    │\n",
      "│ 2019-10-01 ┆ view       ┆ 17200506  ┆ 205301355 ┆ … ┆ null     ┆ 543.1   ┆ 519107250 ┆ 566511c2- │\n",
      "│ 00:00:01   ┆            ┆           ┆ 979263247 ┆   ┆          ┆         ┆           ┆ e2e3-422b │\n",
      "│ UTC        ┆            ┆           ┆ 1         ┆   ┆          ┆         ┆           ┆ -b695-cf8 │\n",
      "│            ┆            ┆           ┆           ┆   ┆          ┆         ┆           ┆ e6e79…    │\n",
      "│ 2019-10-01 ┆ view       ┆ 1307067   ┆ 205301355 ┆ … ┆ lenovo   ┆ 251.74  ┆ 550050854 ┆ 7c90fc70- │\n",
      "│ 00:00:01   ┆            ┆           ┆ 892021719 ┆   ┆          ┆         ┆           ┆ 0e80-4590 │\n",
      "│ UTC        ┆            ┆           ┆ 1         ┆   ┆          ┆         ┆           ┆ -96f3-13c │\n",
      "│            ┆            ┆           ┆           ┆   ┆          ┆         ┆           ┆ 02c18…    │\n",
      "│ 2019-10-01 ┆ view       ┆ 1004237   ┆ 205301355 ┆ … ┆ apple    ┆ 1081.98 ┆ 535871217 ┆ c6bd7419- │\n",
      "│ 00:00:04   ┆            ┆           ┆ 563188265 ┆   ┆          ┆         ┆           ┆ 2748-4c56 │\n",
      "│ UTC        ┆            ┆           ┆ 5         ┆   ┆          ┆         ┆           ┆ -95b4-8ce │\n",
      "│            ┆            ┆           ┆           ┆   ┆          ┆         ┆           ┆ c9ff8…    │\n",
      "└────────────┴────────────┴───────────┴───────────┴───┴──────────┴─────────┴───────────┴───────────┘\n",
      "shape: (9, 10)\n",
      "┌───────────┬───────────┬───────────┬───────────┬───┬──────────┬───────────┬───────────┬───────────┐\n",
      "│ describe  ┆ event_tim ┆ event_typ ┆ product_i ┆ … ┆ brand    ┆ price     ┆ user_id   ┆ user_sess │\n",
      "│ ---       ┆ e         ┆ e         ┆ d         ┆   ┆ ---      ┆ ---       ┆ ---       ┆ ion       │\n",
      "│ str       ┆ ---       ┆ ---       ┆ ---       ┆   ┆ str      ┆ f64       ┆ f64       ┆ ---       │\n",
      "│           ┆ str       ┆ str       ┆ f64       ┆   ┆          ┆           ┆           ┆ str       │\n",
      "╞═══════════╪═══════════╪═══════════╪═══════════╪═══╪══════════╪═══════════╪═══════════╪═══════════╡\n",
      "│ count     ┆ 109950743 ┆ 109950743 ┆ 1.0995074 ┆ … ┆ 94619500 ┆ 1.0995074 ┆ 1.0995074 ┆ 109950731 │\n",
      "│           ┆           ┆           ┆ 3e8       ┆   ┆          ┆ 3e8       ┆ 3e8       ┆           │\n",
      "│ null_coun ┆ 0         ┆ 0         ┆ 0.0       ┆ … ┆ 15331243 ┆ 0.0       ┆ 0.0       ┆ 12        │\n",
      "│ t         ┆           ┆           ┆           ┆   ┆          ┆           ┆           ┆           │\n",
      "│ mean      ┆ null      ┆ null      ┆ 1.1756e7  ┆ … ┆ null     ┆ 291.63480 ┆ 5.3667e8  ┆ null      │\n",
      "│           ┆           ┆           ┆           ┆   ┆          ┆ 2         ┆           ┆           │\n",
      "│ std       ┆ null      ┆ null      ┆ 1.5436e7  ┆ … ┆ null     ┆ 356.67997 ┆ 2.1452e7  ┆ null      │\n",
      "│           ┆           ┆           ┆           ┆   ┆          ┆ 1         ┆           ┆           │\n",
      "│ min       ┆ 2019-10-0 ┆ cart      ┆ 1.000365e ┆ … ┆ a-case   ┆ 0.0       ┆ 1.0300217 ┆ 00000042- │\n",
      "│           ┆ 1         ┆           ┆ 6         ┆   ┆          ┆           ┆ e7        ┆ 3e3f-42f9 │\n",
      "│           ┆ 00:00:00  ┆           ┆           ┆   ┆          ┆           ┆           ┆ -810d-f3d │\n",
      "│           ┆ UTC       ┆           ┆           ┆   ┆          ┆           ┆           ┆ 26413…    │\n",
      "│ 25%       ┆ null      ┆ null      ┆ 1.005256e ┆ … ┆ null     ┆ 67.96     ┆ 5.1626286 ┆ null      │\n",
      "│           ┆           ┆           ┆ 6         ┆   ┆          ┆           ┆ 2e8       ┆           │\n",
      "│ 50%       ┆ null      ┆ null      ┆ 5.100396e ┆ … ┆ null     ┆ 164.93    ┆ 5.3264154 ┆ null      │\n",
      "│           ┆           ┆           ┆ 6         ┆   ┆          ┆           ┆ 4e8       ┆           │\n",
      "│ 75%       ┆ null      ┆ null      ┆ 1.7200513 ┆ … ┆ null     ┆ 360.11    ┆ 5.5633118 ┆ null      │\n",
      "│           ┆           ┆           ┆ e7        ┆   ┆          ┆           ┆ 6e8       ┆           │\n",
      "│ max       ┆ 2019-11-3 ┆ view      ┆ 1.0002855 ┆ … ┆ zyxel    ┆ 2574.07   ┆ 5.7996985 ┆ fffffde2- │\n",
      "│           ┆ 0         ┆           ┆ 4e8       ┆   ┆          ┆           ┆ 1e8       ┆ 4522-4b44 │\n",
      "│           ┆ 23:59:59  ┆           ┆           ┆   ┆          ┆           ┆           ┆ -8a32-510 │\n",
      "│           ┆ UTC       ┆           ┆           ┆   ┆          ┆           ┆           ┆ c5573…    │\n",
      "└───────────┴───────────┴───────────┴───────────┴───┴──────────┴───────────┴───────────┴───────────┘\n",
      "[String, String, Int64, Int64, String, String, Float64, Int64, String]\n",
      "Temps d'exécution de l'exercise 2 : 3.42 secondes\n"
     ]
    }
   ],
   "source": [
    "ex = 2\n",
    "\n",
    "start_time = time.time()\n",
    "\n",
    "print(f\"Quantité de lignes : {data.height}\")\n",
    "\n",
    "print(data.head())\n",
    "\n",
    "print(data.describe())\n",
    "\n",
    "print(data.dtypes)\n",
    "\n",
    "end_time = time.time()\n",
    "\n",
    "execution_time = round(end_time - start_time, 2)\n",
    "\n",
    "timing.loc[ex, 'Timing_Polars'] = execution_time\n",
    "\n",
    "print(f\"Temps d'exécution de l'exercise {ex} : {execution_time} secondes\")"
   ]
  },
  {
   "cell_type": "markdown",
   "id": "7cdec16a9d55245f",
   "metadata": {
    "collapsed": false
   },
   "source": [
    "3.\tAffichage de la quantité de produits, marques et utilisateurs dans le dataset, sans répétitions"
   ]
  },
  {
   "cell_type": "code",
   "execution_count": 30,
   "id": "52b87c634f02c5f0",
   "metadata": {
    "ExecuteTime": {
     "end_time": "2024-01-16T11:08:57.641764800Z",
     "start_time": "2024-01-16T11:08:54.256108500Z"
    },
    "collapsed": false
   },
   "outputs": [
    {
     "name": "stdout",
     "output_type": "stream",
     "text": [
      "Quantité de produits uniques dans le dataset :\n",
      "206876\n",
      "Quantité de marques uniques dans le dataset :\n",
      "4304\n",
      "Quantité d'utilisateurs uniques dans le dataset :\n",
      "5316649\n",
      "Temps d'exécution de l'exercise 3 : 3.38 secondes\n"
     ]
    }
   ],
   "source": [
    "ex = 3\n",
    "\n",
    "start_time = time.time()\n",
    "\n",
    "print(f\"Quantité de produits uniques dans le dataset :\")\n",
    "print(data.select(['product_id']).unique().height)\n",
    "print(f\"Quantité de marques uniques dans le dataset :\")\n",
    "print(data.select(['brand']).unique().height)\n",
    "print(f\"Quantité d'utilisateurs uniques dans le dataset :\")\n",
    "print(data.select(['user_id']).unique().height)\n",
    "\n",
    "end_time = time.time()\n",
    "\n",
    "execution_time = round(end_time - start_time, 2)\n",
    "\n",
    "timing.loc[ex, 'Timing_Polars'] = execution_time\n",
    "\n",
    "print(f\"Temps d'exécution de l'exercise {ex} : {execution_time} secondes\")"
   ]
  },
  {
   "cell_type": "markdown",
   "id": "ed779d1181ec580b",
   "metadata": {
    "collapsed": false
   },
   "source": [
    "4. Affichage du top 5 de marques et catégories avec le prix moyen le plus élevé"
   ]
  },
  {
   "cell_type": "code",
   "execution_count": 32,
   "id": "4b692ef1bc4dc6ed",
   "metadata": {
    "ExecuteTime": {
     "end_time": "2024-01-16T11:37:07.993194600Z",
     "start_time": "2024-01-16T11:37:04.913901800Z"
    },
    "collapsed": false
   },
   "outputs": [
    {
     "name": "stdout",
     "output_type": "stream",
     "text": [
      "shape: (5, 2)\n",
      "┌─────────────┬───────────┐\n",
      "│ brand       ┆ avg_price │\n",
      "│ ---         ┆ ---       │\n",
      "│ str         ┆ f64       │\n",
      "╞═════════════╪═══════════╡\n",
      "│ pinarello   ┆ 2533.24   │\n",
      "│ nordictrack ┆ 2522.59   │\n",
      "│ kessler     ┆ 2372.0    │\n",
      "│ yjfitness   ┆ 2344.98   │\n",
      "│ climadiff   ┆ 2261.95   │\n",
      "└─────────────┴───────────┘\n",
      "shape: (5, 2)\n",
      "┌─────────────────────┬───────────┐\n",
      "│ category_id         ┆ avg_price │\n",
      "│ ---                 ┆ ---       │\n",
      "│ i64                 ┆ f64       │\n",
      "╞═════════════════════╪═══════════╡\n",
      "│ 2104564977263182827 ┆ 1673.14   │\n",
      "│ 2059484601444729123 ┆ 1666.93   │\n",
      "│ 2053013564523807647 ┆ 1527.04   │\n",
      "│ 2144356630513320518 ┆ 1489.79   │\n",
      "│ 2179887855134835524 ┆ 1381.51   │\n",
      "└─────────────────────┴───────────┘\n",
      "Temps d'exécution de l'exercise 4 : 3.07 secondes\n"
     ]
    }
   ],
   "source": [
    "ex = 4\n",
    "\n",
    "start_time = time.time()\n",
    "\n",
    "result_brand = data.group_by('brand').agg(avg_price = pl.col('price').mean().round(2))\n",
    "result_brand = result_brand.sort(by='avg_price', descending=True)\n",
    "print(result_brand.head())\n",
    "\n",
    "result_category = data.group_by('category_id').agg(avg_price = pl.col('price').mean().round(2))\n",
    "result_category = result_category.sort(by='avg_price', descending=True)\n",
    "print(result_category.head())\n",
    "\n",
    "end_time = time.time()\n",
    "\n",
    "execution_time = round(end_time - start_time, 2)\n",
    "\n",
    "timing.loc[ex, 'Timing_Polars'] = execution_time\n",
    "\n",
    "print(f\"Temps d'exécution de l'exercise {ex} : {execution_time} secondes\")"
   ]
  },
  {
   "cell_type": "markdown",
   "id": "23bc4b06edaf6de2",
   "metadata": {
    "collapsed": false
   },
   "source": [
    "5.\tCalcul du min, max et moyenne de prix par marque et par catégorie"
   ]
  },
  {
   "cell_type": "code",
   "execution_count": 35,
   "id": "bb44018e399776a8",
   "metadata": {
    "ExecuteTime": {
     "end_time": "2024-01-16T11:57:54.271892600Z",
     "start_time": "2024-01-16T11:57:50.590072400Z"
    },
    "collapsed": false
   },
   "outputs": [
    {
     "name": "stdout",
     "output_type": "stream",
     "text": [
      "shape: (5, 4)\n",
      "┌────────────┬───────────┬───────────┬───────────┐\n",
      "│ brand      ┆ min_price ┆ max_price ┆ avg_price │\n",
      "│ ---        ┆ ---       ┆ ---       ┆ ---       │\n",
      "│ str        ┆ f64       ┆ f64       ┆ f64       │\n",
      "╞════════════╪═══════════╪═══════════╪═══════════╡\n",
      "│ trespass   ┆ 4.76      ┆ 4.76      ┆ 4.76      │\n",
      "│ autovirazh ┆ 24.69     ┆ 125.09    ┆ 64.84     │\n",
      "│ antares    ┆ 84.43     ┆ 89.06     ┆ 87.43     │\n",
      "│ versal     ┆ 13.6      ┆ 17.6      ┆ 16.15     │\n",
      "│ meccano    ┆ 28.32     ┆ 71.3      ┆ 58.76     │\n",
      "└────────────┴───────────┴───────────┴───────────┘\n",
      "shape: (5, 4)\n",
      "┌─────────────────────┬───────────┬───────────┬───────────┐\n",
      "│ category_id         ┆ min_price ┆ max_price ┆ avg_price │\n",
      "│ ---                 ┆ ---       ┆ ---       ┆ ---       │\n",
      "│ i64                 ┆ f64       ┆ f64       ┆ f64       │\n",
      "╞═════════════════════╪═══════════╪═══════════╪═══════════╡\n",
      "│ 2070747685681365440 ┆ 4.89      ┆ 4.89      ┆ 4.89      │\n",
      "│ 2053013559440310913 ┆ 0.0       ┆ 977.89    ┆ 301.4     │\n",
      "│ 2053013552989470973 ┆ 0.0       ┆ 2505.83   ┆ 135.16    │\n",
      "│ 2053013566503518219 ┆ 51.4      ┆ 138.91    ┆ 92.15     │\n",
      "│ 2053013554155487563 ┆ 0.0       ┆ 1178.07   ┆ 143.14    │\n",
      "└─────────────────────┴───────────┴───────────┴───────────┘\n",
      "Temps d'exécution de l'exercise 5 : 3.68 secondes\n"
     ]
    }
   ],
   "source": [
    "ex = 5\n",
    "\n",
    "start_time = time.time()\n",
    "\n",
    "result_brand = data.group_by('brand').agg(\n",
    "    min_price = pl.col('price').min().round(2),\n",
    "    max_price = pl.col('price').max().round(2),\n",
    "    avg_price = pl.col('price').mean().round(2)\n",
    ")\n",
    "print(result_brand.head())\n",
    "\n",
    "result_category = data.group_by('category_id').agg(\n",
    "    min_price = pl.col('price').min().round(2),\n",
    "    max_price = pl.col('price').max().round(2),\n",
    "    avg_price = pl.col('price').mean().round(2)\n",
    ")\n",
    "print(result_category.head())\n",
    "\n",
    "\n",
    "end_time = time.time()\n",
    "\n",
    "execution_time = round(end_time - start_time, 2)\n",
    "\n",
    "timing.loc[ex, 'Timing_Polars'] = execution_time\n",
    "\n",
    "print(f\"Temps d'exécution de l'exercise {ex} : {execution_time} secondes\")"
   ]
  },
  {
   "cell_type": "markdown",
   "id": "8a080db2e23fdd8e",
   "metadata": {
    "collapsed": false
   },
   "source": [
    "6.\tAffichage des 5 prix les plus élevés"
   ]
  },
  {
   "cell_type": "code",
   "execution_count": 36,
   "id": "e53fdb96075c97dd",
   "metadata": {
    "ExecuteTime": {
     "end_time": "2024-01-16T12:04:46.892105600Z",
     "start_time": "2024-01-16T12:04:46.611169300Z"
    },
    "collapsed": false
   },
   "outputs": [
    {
     "name": "stdout",
     "output_type": "stream",
     "text": [
      "shape: (5, 1)\n",
      "┌─────────┐\n",
      "│ price   │\n",
      "│ ---     │\n",
      "│ f64     │\n",
      "╞═════════╡\n",
      "│ 2574.07 │\n",
      "│ 2574.04 │\n",
      "│ 2573.99 │\n",
      "│ 2573.81 │\n",
      "│ 2573.79 │\n",
      "└─────────┘\n",
      "Temps d'exécution de l'exercise 6 : 0.27 secondes\n"
     ]
    }
   ],
   "source": [
    "ex = 6\n",
    "\n",
    "start_time = time.time()\n",
    "\n",
    "result_price = data.select(['price']).unique().sort(by='price', descending=True)\n",
    "print(result_price.head())\n",
    "\n",
    "end_time = time.time()\n",
    "\n",
    "execution_time = round(end_time - start_time, 2)\n",
    "\n",
    "timing.loc[ex, 'Timing_Polars'] = execution_time\n",
    "\n",
    "print(f\"Temps d'exécution de l'exercise {ex} : {execution_time} secondes\")"
   ]
  },
  {
   "cell_type": "markdown",
   "id": "ed7e34ccb694798b",
   "metadata": {
    "collapsed": false
   },
   "source": [
    "7.\tAffichage de la quantité d’articles par marque et par catégorie, en utilisant une fonction d’agrégation"
   ]
  },
  {
   "cell_type": "code",
   "execution_count": 37,
   "id": "57981193b6d47d28",
   "metadata": {
    "ExecuteTime": {
     "end_time": "2024-01-16T12:13:38.682710700Z",
     "start_time": "2024-01-16T12:13:36.256916600Z"
    },
    "collapsed": false
   },
   "outputs": [
    {
     "name": "stdout",
     "output_type": "stream",
     "text": [
      "shape: (5, 2)\n",
      "┌────────────────┬──────────────┐\n",
      "│ brand          ┆ qty_articles │\n",
      "│ ---            ┆ ---          │\n",
      "│ str            ┆ u32          │\n",
      "╞════════════════╪══════════════╡\n",
      "│ babor          ┆ 8269         │\n",
      "│ loreal         ┆ 1924         │\n",
      "│ francescodonni ┆ 232          │\n",
      "│ blaumann       ┆ 272          │\n",
      "│ divalux        ┆ 2023         │\n",
      "└────────────────┴──────────────┘\n",
      "shape: (5, 2)\n",
      "┌─────────────────────┬──────────────┐\n",
      "│ category_id         ┆ qty_articles │\n",
      "│ ---                 ┆ ---          │\n",
      "│ i64                 ┆ u32          │\n",
      "╞═════════════════════╪══════════════╡\n",
      "│ 2053013558945383017 ┆ 132729       │\n",
      "│ 2053013566209917945 ┆ 235644       │\n",
      "│ 2053013556487520725 ┆ 162057       │\n",
      "│ 2166064779414732801 ┆ 84           │\n",
      "│ 2145603402644587402 ┆ 7057         │\n",
      "└─────────────────────┴──────────────┘\n",
      "Temps d'exécution de l'exercise 7 : 2.42 secondes\n"
     ]
    }
   ],
   "source": [
    "ex = 7\n",
    "\n",
    "start_time = time.time()\n",
    "\n",
    "result_brand = data.group_by('brand').agg(qty_articles = pl.col('product_id').count())\n",
    "print(result_brand.head())\n",
    "\n",
    "result_category = data.group_by('category_id').agg(qty_articles = pl.col('product_id').count())\n",
    "print(result_category.head())\n",
    "\n",
    "end_time = time.time()\n",
    "\n",
    "execution_time = round(end_time - start_time, 2)\n",
    "\n",
    "timing.loc[ex, 'Timing_Polars'] = execution_time\n",
    "\n",
    "print(f\"Temps d'exécution de l'exercise {ex} : {execution_time} secondes\")"
   ]
  },
  {
   "cell_type": "markdown",
   "id": "843cabd5c5af817c",
   "metadata": {
    "collapsed": false
   },
   "source": [
    "  8. Affichage de la quantité d’événements par type, en utilisant une fonction d’agrégation"
   ]
  },
  {
   "cell_type": "code",
   "execution_count": 38,
   "id": "7f250b6d9a2cade4",
   "metadata": {
    "ExecuteTime": {
     "end_time": "2024-01-16T12:20:57.074924700Z",
     "start_time": "2024-01-16T12:20:54.730020400Z"
    },
    "collapsed": false
   },
   "outputs": [
    {
     "name": "stdout",
     "output_type": "stream",
     "text": [
      "shape: (3, 2)\n",
      "┌────────────┬────────────┐\n",
      "│ event_type ┆ qty_events │\n",
      "│ ---        ┆ ---        │\n",
      "│ str        ┆ u32        │\n",
      "╞════════════╪════════════╡\n",
      "│ purchase   ┆ 1659788    │\n",
      "│ view       ┆ 104335509  │\n",
      "│ cart       ┆ 3955446    │\n",
      "└────────────┴────────────┘\n",
      "Temps d'exécution de l'exercise 8 : 2.34 secondes\n"
     ]
    }
   ],
   "source": [
    "ex = 8\n",
    "\n",
    "start_time = time.time()\n",
    "\n",
    "result = data.group_by('event_type').agg(qty_events = pl.col('event_time').count())\n",
    "print(result.head())\n",
    "\n",
    "end_time = time.time()\n",
    "\n",
    "execution_time = round(end_time - start_time, 2)\n",
    "\n",
    "timing.loc[ex, 'Timing_Polars'] = execution_time\n",
    "\n",
    "print(f\"Temps d'exécution de l'exercise {ex} : {execution_time} secondes\")"
   ]
  },
  {
   "cell_type": "markdown",
   "id": "4a0f28b83a0a977a",
   "metadata": {
    "collapsed": false
   },
   "source": [
    "9.\tCréation et affichage d'un tableau qui contient la quantité d’événements de chaque type par marque"
   ]
  },
  {
   "cell_type": "code",
   "execution_count": 39,
   "id": "1825ca8dc1eb86c3",
   "metadata": {
    "ExecuteTime": {
     "end_time": "2024-01-16T12:27:34.738584Z",
     "start_time": "2024-01-16T12:27:33.115351300Z"
    },
    "collapsed": false
   },
   "outputs": [
    {
     "name": "stdout",
     "output_type": "stream",
     "text": [
      "shape: (5, 3)\n",
      "┌────────────┬────────────┬────────────┐\n",
      "│ event_type ┆ brand      ┆ qty_events │\n",
      "│ ---        ┆ ---        ┆ ---        │\n",
      "│ str        ┆ str        ┆ u32        │\n",
      "╞════════════╪════════════╪════════════╡\n",
      "│ view       ┆ electrolux ┆ 184688     │\n",
      "│ view       ┆ hansa      ┆ 263334     │\n",
      "│ view       ┆ intex      ┆ 84093      │\n",
      "│ view       ┆ erlit      ┆ 56155      │\n",
      "│ view       ┆ carters    ┆ 15952      │\n",
      "└────────────┴────────────┴────────────┘\n",
      "Temps d'exécution de l'exercise 9 : 1.62 secondes\n"
     ]
    }
   ],
   "source": [
    "ex = 9\n",
    "\n",
    "start_time = time.time()\n",
    "\n",
    "result = data.group_by(['event_type', 'brand']).agg(qty_events = pl.col('event_time').count())\n",
    "print(result.head())\n",
    "\n",
    "end_time = time.time()\n",
    "\n",
    "execution_time = round(end_time - start_time, 2)\n",
    "\n",
    "timing.loc[ex, 'Timing_Polars'] = execution_time\n",
    "\n",
    "print(f\"Temps d'exécution de l'exercise {ex} : {execution_time} secondes\")"
   ]
  },
  {
   "cell_type": "markdown",
   "id": "1e91a991194e2db8",
   "metadata": {
    "collapsed": false
   },
   "source": [
    "10. Création et affichage d'un tableau qui contient la quantité d’événements de chaque type par marque et utilisateur"
   ]
  },
  {
   "cell_type": "code",
   "execution_count": 40,
   "id": "3df704eb64e411ad",
   "metadata": {
    "ExecuteTime": {
     "end_time": "2024-01-16T12:30:21.476614700Z",
     "start_time": "2024-01-16T12:30:16.436816400Z"
    },
    "collapsed": false
   },
   "outputs": [
    {
     "name": "stdout",
     "output_type": "stream",
     "text": [
      "shape: (5, 4)\n",
      "┌────────────┬─────────┬───────────┬────────────┐\n",
      "│ event_type ┆ brand   ┆ user_id   ┆ qty_events │\n",
      "│ ---        ┆ ---     ┆ ---       ┆ ---        │\n",
      "│ str        ┆ str     ┆ i64       ┆ u32        │\n",
      "╞════════════╪═════════╪═══════════╪════════════╡\n",
      "│ view       ┆ hp      ┆ 550050854 ┆ 3          │\n",
      "│ view       ┆ respect ┆ 555447570 ┆ 1          │\n",
      "│ view       ┆ vitek   ┆ 523239174 ┆ 14         │\n",
      "│ view       ┆ null    ┆ 522832272 ┆ 38         │\n",
      "│ view       ┆ samsung ┆ 518060648 ┆ 18         │\n",
      "└────────────┴─────────┴───────────┴────────────┘\n",
      "Temps d'exécution de l'exercise 10 : 5.03 secondes\n"
     ]
    }
   ],
   "source": [
    "ex = 10\n",
    "\n",
    "start_time = time.time()\n",
    "\n",
    "result = data.group_by(['event_type', 'brand', 'user_id']).agg(qty_events = pl.col('event_time').count())\n",
    "print(result.head())\n",
    "\n",
    "end_time = time.time()\n",
    "\n",
    "execution_time = round(end_time - start_time, 2)\n",
    "\n",
    "timing.loc[ex, 'Timing_Polars'] = execution_time\n",
    "\n",
    "print(f\"Temps d'exécution de l'exercise {ex} : {execution_time} secondes\")"
   ]
  },
  {
   "cell_type": "markdown",
   "id": "5f6e11540b34f52b",
   "metadata": {
    "collapsed": false
   },
   "source": [
    "11. Affichage du percentage de données vides ou nulles par colonne"
   ]
  },
  {
   "cell_type": "code",
   "execution_count": 41,
   "id": "baa8ca6c09589d5e",
   "metadata": {
    "ExecuteTime": {
     "end_time": "2024-01-16T12:34:15.936653700Z",
     "start_time": "2024-01-16T12:34:15.933752700Z"
    },
    "collapsed": false
   },
   "outputs": [
    {
     "name": "stdout",
     "output_type": "stream",
     "text": [
      "shape: (1, 9)\n",
      "┌────────────┬────────────┬────────────┬────────────┬───┬───────────┬───────┬─────────┬────────────┐\n",
      "│ event_time ┆ event_type ┆ product_id ┆ category_i ┆ … ┆ brand     ┆ price ┆ user_id ┆ user_sessi │\n",
      "│ ---        ┆ ---        ┆ ---        ┆ d          ┆   ┆ ---       ┆ ---   ┆ ---     ┆ on         │\n",
      "│ f64        ┆ f64        ┆ f64        ┆ ---        ┆   ┆ f64       ┆ f64   ┆ f64     ┆ ---        │\n",
      "│            ┆            ┆            ┆ f64        ┆   ┆           ┆       ┆         ┆ f64        │\n",
      "╞════════════╪════════════╪════════════╪════════════╪═══╪═══════════╪═══════╪═════════╪════════════╡\n",
      "│ 0.0        ┆ 0.0        ┆ 0.0        ┆ 0.0        ┆ … ┆ 13.943738 ┆ 0.0   ┆ 0.0     ┆ 0.000011   │\n",
      "└────────────┴────────────┴────────────┴────────────┴───┴───────────┴───────┴─────────┴────────────┘\n",
      "Temps d'exécution de l'exercise 11 : 0.03 secondes\n"
     ]
    }
   ],
   "source": [
    "ex = 11\n",
    "\n",
    "start_time = time.time()\n",
    "\n",
    "print(data.null_count() * 100 / data.height)\n",
    "\n",
    "end_time = time.time()\n",
    "\n",
    "execution_time = round(end_time - start_time, 2)\n",
    "\n",
    "timing.loc[ex, 'Timing_Polars'] = execution_time\n",
    "\n",
    "print(f\"Temps d'exécution de l'exercise {ex} : {execution_time} secondes\")"
   ]
  },
  {
   "cell_type": "markdown",
   "id": "1d8e2401e0519b5e",
   "metadata": {
    "collapsed": false
   },
   "source": [
    "12. Suppression de lignes vides si le total par colonne ne dépasse pâs 15%"
   ]
  },
  {
   "cell_type": "code",
   "execution_count": 42,
   "id": "e180eb12ebe67af2",
   "metadata": {
    "ExecuteTime": {
     "end_time": "2024-01-16T12:48:14.946778400Z",
     "start_time": "2024-01-16T12:48:04.770178600Z"
    },
    "collapsed": false
   },
   "outputs": [
    {
     "name": "stdout",
     "output_type": "stream",
     "text": [
      "Total de lignes : 109950743\n",
      "Total de lignes : 94619490\n",
      "Temps d'exécution de l'exercise 12 : 10.17 secondes\n"
     ]
    }
   ],
   "source": [
    "ex = 12\n",
    "\n",
    "start_time = time.time()\n",
    "\n",
    "total = data.height\n",
    "print(f\"Total de lignes : {total}\")\n",
    "\n",
    "col_to_del = []\n",
    "\n",
    "for col in data.columns:\n",
    "    is_na = (data.select(pl.col(col)).null_count()*100/total).item()\n",
    "    if 0<is_na<15:\n",
    "        col_to_del.append(col)\n",
    "\n",
    "filtered_data = data.drop_nulls(subset=col_to_del)\n",
    "\n",
    "total = filtered_data.height\n",
    "print(f\"Total de lignes : {total}\")\n",
    "    \n",
    "end_time = time.time()\n",
    "\n",
    "execution_time = round(end_time - start_time, 2)\n",
    "\n",
    "timing.loc[ex, 'Timing_Polars'] = execution_time\n",
    "\n",
    "print(f\"Temps d'exécution de l'exercise {ex} : {execution_time} secondes\")"
   ]
  },
  {
   "cell_type": "code",
   "execution_count": 64,
   "id": "3df64e3ba8c89cd3",
   "metadata": {
    "ExecuteTime": {
     "end_time": "2024-01-16T12:57:17.008500900Z",
     "start_time": "2024-01-16T12:57:17.002171Z"
    },
    "collapsed": false
   },
   "outputs": [
    {
     "data": {
      "text/html": [
       "<div>\n",
       "<style scoped>\n",
       "    .dataframe tbody tr th:only-of-type {\n",
       "        vertical-align: middle;\n",
       "    }\n",
       "\n",
       "    .dataframe tbody tr th {\n",
       "        vertical-align: top;\n",
       "    }\n",
       "\n",
       "    .dataframe thead th {\n",
       "        text-align: right;\n",
       "    }\n",
       "</style>\n",
       "<table border=\"1\" class=\"dataframe\">\n",
       "  <thead>\n",
       "    <tr style=\"text-align: right;\">\n",
       "      <th></th>\n",
       "      <th>Timing_Pandas</th>\n",
       "      <th>Timing_Polars</th>\n",
       "    </tr>\n",
       "  </thead>\n",
       "  <tbody>\n",
       "    <tr>\n",
       "      <th>1</th>\n",
       "      <td>76.65</td>\n",
       "      <td>23.74</td>\n",
       "    </tr>\n",
       "    <tr>\n",
       "      <th>2</th>\n",
       "      <td>9.76</td>\n",
       "      <td>3.42</td>\n",
       "    </tr>\n",
       "    <tr>\n",
       "      <th>3</th>\n",
       "      <td>6.35</td>\n",
       "      <td>3.38</td>\n",
       "    </tr>\n",
       "    <tr>\n",
       "      <th>4</th>\n",
       "      <td>5.59</td>\n",
       "      <td>3.07</td>\n",
       "    </tr>\n",
       "    <tr>\n",
       "      <th>5</th>\n",
       "      <td>9.90</td>\n",
       "      <td>3.68</td>\n",
       "    </tr>\n",
       "    <tr>\n",
       "      <th>6</th>\n",
       "      <td>0.86</td>\n",
       "      <td>0.27</td>\n",
       "    </tr>\n",
       "    <tr>\n",
       "      <th>7</th>\n",
       "      <td>5.25</td>\n",
       "      <td>2.42</td>\n",
       "    </tr>\n",
       "    <tr>\n",
       "      <th>8</th>\n",
       "      <td>4.34</td>\n",
       "      <td>2.34</td>\n",
       "    </tr>\n",
       "    <tr>\n",
       "      <th>9</th>\n",
       "      <td>10.54</td>\n",
       "      <td>1.62</td>\n",
       "    </tr>\n",
       "    <tr>\n",
       "      <th>10</th>\n",
       "      <td>26.66</td>\n",
       "      <td>5.03</td>\n",
       "    </tr>\n",
       "    <tr>\n",
       "      <th>11</th>\n",
       "      <td>7.84</td>\n",
       "      <td>0.03</td>\n",
       "    </tr>\n",
       "    <tr>\n",
       "      <th>12</th>\n",
       "      <td>15.89</td>\n",
       "      <td>10.17</td>\n",
       "    </tr>\n",
       "  </tbody>\n",
       "</table>\n",
       "</div>"
      ],
      "text/plain": [
       "    Timing_Pandas  Timing_Polars\n",
       "1           76.65          23.74\n",
       "2            9.76           3.42\n",
       "3            6.35           3.38\n",
       "4            5.59           3.07\n",
       "5            9.90           3.68\n",
       "6            0.86           0.27\n",
       "7            5.25           2.42\n",
       "8            4.34           2.34\n",
       "9           10.54           1.62\n",
       "10          26.66           5.03\n",
       "11           7.84           0.03\n",
       "12          15.89          10.17"
      ]
     },
     "execution_count": 64,
     "metadata": {},
     "output_type": "execute_result"
    }
   ],
   "source": [
    "timing"
   ]
  },
  {
   "cell_type": "code",
   "execution_count": 65,
   "id": "6be4a40c9802f43c",
   "metadata": {
    "ExecuteTime": {
     "end_time": "2024-01-16T12:57:19.144986800Z",
     "start_time": "2024-01-16T12:57:19.137458900Z"
    },
    "collapsed": false
   },
   "outputs": [],
   "source": [
    "timing.to_csv(timing_path)"
   ]
  }
 ],
 "metadata": {
  "kernelspec": {
   "display_name": "Python 3",
   "language": "python",
   "name": "python3"
  },
  "language_info": {
   "codemirror_mode": {
    "name": "ipython",
    "version": 2
   },
   "file_extension": ".py",
   "mimetype": "text/x-python",
   "name": "python",
   "nbconvert_exporter": "python",
   "pygments_lexer": "ipython2",
   "version": "3.10.13"
  }
 },
 "nbformat": 4,
 "nbformat_minor": 5
}
