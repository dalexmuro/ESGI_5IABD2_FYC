{
 "cells": [
  {
   "cell_type": "code",
   "execution_count": null,
   "id": "9ed4a0cd",
   "metadata": {},
   "outputs": [],
   "source": [
    "!pip install opendatasets --upgrade --quiet\n",
    "!pip install pandas --upgrade --quiet\n",
    "!pip install polars --upgrade --quiet"
   ]
  },
  {
   "cell_type": "code",
   "execution_count": null,
   "id": "initial_id",
   "metadata": {
    "ExecuteTime": {
     "end_time": "2024-01-16T10:44:26.595037800Z",
     "start_time": "2024-01-16T10:44:26.590477600Z"
    },
    "collapsed": true
   },
   "outputs": [],
   "source": [
    "import polars as pl\n",
    "import pandas as pd\n",
    "import opendatasets as od\n",
    "import time\n",
    "import os"
   ]
  },
  {
   "cell_type": "code",
   "execution_count": null,
   "id": "71cceb56",
   "metadata": {},
   "outputs": [],
   "source": [
    "dataset = 'https://www.kaggle.com/datasets/mkechinov/ecommerce-behavior-data-from-multi-category-store'\n"
   ]
  },
  {
   "cell_type": "code",
   "execution_count": null,
   "id": "945b72a1cd881608",
   "metadata": {
    "ExecuteTime": {
     "end_time": "2024-01-16T10:44:28.083903800Z",
     "start_time": "2024-01-16T10:44:28.080765100Z"
    },
    "collapsed": false
   },
   "outputs": [],
   "source": [
    "data_oct = './ecommerce-behavior-data-from-multi-category-store/2019-Oct.csv'\n",
    "data_nov = './ecommerce-behavior-data-from-multi-category-store/2019-Nov.csv'\n",
    "timing_path = '../stats/timings.csv' "
   ]
  },
  {
   "cell_type": "code",
   "execution_count": null,
   "id": "35bce072",
   "metadata": {},
   "outputs": [],
   "source": [
    "if not(os.path.exists(data_oct) and os.path.exists(data_nov)):\n",
    "    od.download(dataset)"
   ]
  },
  {
   "cell_type": "code",
   "execution_count": null,
   "id": "c267da5cd708a142",
   "metadata": {
    "ExecuteTime": {
     "end_time": "2024-01-16T12:50:37.370432500Z",
     "start_time": "2024-01-16T12:50:37.362705300Z"
    },
    "collapsed": false
   },
   "outputs": [],
   "source": [
    "if os.path.exists(timing_path):\n",
    "    timing = pd.read_csv(timing_path, index_col=0)\n",
    "else:\n",
    "    timing = pd.DataFrame(columns=['Timing_Pandas', 'Timing_Polars'])"
   ]
  },
  {
   "cell_type": "markdown",
   "id": "b8fbac5f95cafdae",
   "metadata": {
    "collapsed": false
   },
   "source": [
    "1. Lecture des deux jeux de données et concatenation dans un seul dataset"
   ]
  },
  {
   "cell_type": "code",
   "execution_count": null,
   "id": "cb2039b85b04e6c",
   "metadata": {
    "ExecuteTime": {
     "end_time": "2024-01-16T10:47:08.934636400Z",
     "start_time": "2024-01-16T10:46:45.195749800Z"
    },
    "collapsed": false
   },
   "outputs": [],
   "source": [
    "ex = 1\n",
    "\n",
    "start_time = time.time()\n",
    "\n",
    "data_raw_oct = pl.read_csv(data_oct)\n",
    "data_raw_nov = pl.read_csv(data_nov)\n",
    "\n",
    "data = pl.concat([data_raw_oct, data_raw_nov])\n",
    "\n",
    "end_time = time.time()\n",
    "\n",
    "execution_time = round(end_time - start_time, 2)\n",
    "\n",
    "timing.loc[ex, 'Timing_Polars'] = execution_time\n",
    "\n",
    "print(f\"Temps d'exécution de l'exercise {ex} : {execution_time} secondes\")"
   ]
  },
  {
   "cell_type": "markdown",
   "id": "5a80278a20771491",
   "metadata": {
    "collapsed": false
   },
   "source": [
    "2.\tAffichage des informations basiques du jeu de données : quantité de lignes, colonnes, types des données, etc."
   ]
  },
  {
   "cell_type": "code",
   "execution_count": null,
   "id": "ff13c85768039e55",
   "metadata": {
    "ExecuteTime": {
     "end_time": "2024-01-16T10:59:30.266322100Z",
     "start_time": "2024-01-16T10:59:26.835433800Z"
    },
    "collapsed": false
   },
   "outputs": [],
   "source": [
    "ex = 2\n",
    "\n",
    "start_time = time.time()\n",
    "\n",
    "print(f\"Quantité de lignes : {data.height}\")\n",
    "\n",
    "print(data.head())\n",
    "\n",
    "print(data.describe())\n",
    "\n",
    "print(data.dtypes)\n",
    "\n",
    "end_time = time.time()\n",
    "\n",
    "execution_time = round(end_time - start_time, 2)\n",
    "\n",
    "timing.loc[ex, 'Timing_Polars'] = execution_time\n",
    "\n",
    "print(f\"Temps d'exécution de l'exercise {ex} : {execution_time} secondes\")"
   ]
  },
  {
   "cell_type": "markdown",
   "id": "7cdec16a9d55245f",
   "metadata": {
    "collapsed": false
   },
   "source": [
    "3.\tAffichage de la quantité de produits, marques et utilisateurs dans le dataset, sans répétitions"
   ]
  },
  {
   "cell_type": "code",
   "execution_count": null,
   "id": "52b87c634f02c5f0",
   "metadata": {
    "ExecuteTime": {
     "end_time": "2024-01-16T11:08:57.641764800Z",
     "start_time": "2024-01-16T11:08:54.256108500Z"
    },
    "collapsed": false
   },
   "outputs": [],
   "source": [
    "ex = 3\n",
    "\n",
    "start_time = time.time()\n",
    "\n",
    "print(f\"Quantité de produits uniques dans le dataset :\")\n",
    "print(data.select(['product_id']).unique().height)\n",
    "print(f\"Quantité de marques uniques dans le dataset :\")\n",
    "print(data.select(['brand']).unique().height)\n",
    "print(f\"Quantité d'utilisateurs uniques dans le dataset :\")\n",
    "print(data.select(['user_id']).unique().height)\n",
    "\n",
    "end_time = time.time()\n",
    "\n",
    "execution_time = round(end_time - start_time, 2)\n",
    "\n",
    "timing.loc[ex, 'Timing_Polars'] = execution_time\n",
    "\n",
    "print(f\"Temps d'exécution de l'exercise {ex} : {execution_time} secondes\")"
   ]
  },
  {
   "cell_type": "markdown",
   "id": "ed779d1181ec580b",
   "metadata": {
    "collapsed": false
   },
   "source": [
    "4. Affichage du top 5 de marques et catégories avec le prix moyen le plus élevé"
   ]
  },
  {
   "cell_type": "code",
   "execution_count": null,
   "id": "4b692ef1bc4dc6ed",
   "metadata": {
    "ExecuteTime": {
     "end_time": "2024-01-16T11:37:07.993194600Z",
     "start_time": "2024-01-16T11:37:04.913901800Z"
    },
    "collapsed": false
   },
   "outputs": [],
   "source": [
    "ex = 4\n",
    "\n",
    "start_time = time.time()\n",
    "\n",
    "result_brand = data.group_by('brand').agg(avg_price = pl.col('price').mean().round(2))\n",
    "result_brand = result_brand.sort(by='avg_price', descending=True)\n",
    "print(result_brand.head())\n",
    "\n",
    "result_category = data.group_by('category_id').agg(avg_price = pl.col('price').mean().round(2))\n",
    "result_category = result_category.sort(by='avg_price', descending=True)\n",
    "print(result_category.head())\n",
    "\n",
    "end_time = time.time()\n",
    "\n",
    "execution_time = round(end_time - start_time, 2)\n",
    "\n",
    "timing.loc[ex, 'Timing_Polars'] = execution_time\n",
    "\n",
    "print(f\"Temps d'exécution de l'exercise {ex} : {execution_time} secondes\")"
   ]
  },
  {
   "cell_type": "markdown",
   "id": "23bc4b06edaf6de2",
   "metadata": {
    "collapsed": false
   },
   "source": [
    "5.\tCalcul du min, max et moyenne de prix par marque et par catégorie"
   ]
  },
  {
   "cell_type": "code",
   "execution_count": null,
   "id": "bb44018e399776a8",
   "metadata": {
    "ExecuteTime": {
     "end_time": "2024-01-16T11:57:54.271892600Z",
     "start_time": "2024-01-16T11:57:50.590072400Z"
    },
    "collapsed": false
   },
   "outputs": [],
   "source": [
    "ex = 5\n",
    "\n",
    "start_time = time.time()\n",
    "\n",
    "result_brand = data.group_by('brand').agg(\n",
    "    min_price = pl.col('price').min().round(2),\n",
    "    max_price = pl.col('price').max().round(2),\n",
    "    avg_price = pl.col('price').mean().round(2)\n",
    ")\n",
    "print(result_brand.head())\n",
    "\n",
    "result_category = data.group_by('category_id').agg(\n",
    "    min_price = pl.col('price').min().round(2),\n",
    "    max_price = pl.col('price').max().round(2),\n",
    "    avg_price = pl.col('price').mean().round(2)\n",
    ")\n",
    "print(result_category.head())\n",
    "\n",
    "\n",
    "end_time = time.time()\n",
    "\n",
    "execution_time = round(end_time - start_time, 2)\n",
    "\n",
    "timing.loc[ex, 'Timing_Polars'] = execution_time\n",
    "\n",
    "print(f\"Temps d'exécution de l'exercise {ex} : {execution_time} secondes\")"
   ]
  },
  {
   "cell_type": "markdown",
   "id": "8a080db2e23fdd8e",
   "metadata": {
    "collapsed": false
   },
   "source": [
    "6.\tAffichage des 5 prix les plus élevés"
   ]
  },
  {
   "cell_type": "code",
   "execution_count": null,
   "id": "e53fdb96075c97dd",
   "metadata": {
    "ExecuteTime": {
     "end_time": "2024-01-16T12:04:46.892105600Z",
     "start_time": "2024-01-16T12:04:46.611169300Z"
    },
    "collapsed": false
   },
   "outputs": [],
   "source": [
    "ex = 6\n",
    "\n",
    "start_time = time.time()\n",
    "\n",
    "result_price = data.select(['price']).unique().sort(by='price', descending=True)\n",
    "print(result_price.head())\n",
    "\n",
    "end_time = time.time()\n",
    "\n",
    "execution_time = round(end_time - start_time, 2)\n",
    "\n",
    "timing.loc[ex, 'Timing_Polars'] = execution_time\n",
    "\n",
    "print(f\"Temps d'exécution de l'exercise {ex} : {execution_time} secondes\")"
   ]
  },
  {
   "cell_type": "markdown",
   "id": "ed7e34ccb694798b",
   "metadata": {
    "collapsed": false
   },
   "source": [
    "7.\tAffichage de la quantité d’articles par marque et par catégorie, en utilisant une fonction d’agrégation"
   ]
  },
  {
   "cell_type": "code",
   "execution_count": null,
   "id": "57981193b6d47d28",
   "metadata": {
    "ExecuteTime": {
     "end_time": "2024-01-16T12:13:38.682710700Z",
     "start_time": "2024-01-16T12:13:36.256916600Z"
    },
    "collapsed": false
   },
   "outputs": [],
   "source": [
    "ex = 7\n",
    "\n",
    "start_time = time.time()\n",
    "\n",
    "result_brand = data.group_by('brand').agg(qty_articles = pl.col('product_id').count())\n",
    "print(result_brand.head())\n",
    "\n",
    "result_category = data.group_by('category_id').agg(qty_articles = pl.col('product_id').count())\n",
    "print(result_category.head())\n",
    "\n",
    "end_time = time.time()\n",
    "\n",
    "execution_time = round(end_time - start_time, 2)\n",
    "\n",
    "timing.loc[ex, 'Timing_Polars'] = execution_time\n",
    "\n",
    "print(f\"Temps d'exécution de l'exercise {ex} : {execution_time} secondes\")"
   ]
  },
  {
   "cell_type": "markdown",
   "id": "843cabd5c5af817c",
   "metadata": {
    "collapsed": false
   },
   "source": [
    "  8. Affichage de la quantité d’événements par type, en utilisant une fonction d’agrégation"
   ]
  },
  {
   "cell_type": "code",
   "execution_count": null,
   "id": "7f250b6d9a2cade4",
   "metadata": {
    "ExecuteTime": {
     "end_time": "2024-01-16T12:20:57.074924700Z",
     "start_time": "2024-01-16T12:20:54.730020400Z"
    },
    "collapsed": false
   },
   "outputs": [],
   "source": [
    "ex = 8\n",
    "\n",
    "start_time = time.time()\n",
    "\n",
    "result = data.group_by('event_type').agg(qty_events = pl.col('event_time').count())\n",
    "print(result.head())\n",
    "\n",
    "end_time = time.time()\n",
    "\n",
    "execution_time = round(end_time - start_time, 2)\n",
    "\n",
    "timing.loc[ex, 'Timing_Polars'] = execution_time\n",
    "\n",
    "print(f\"Temps d'exécution de l'exercise {ex} : {execution_time} secondes\")"
   ]
  },
  {
   "cell_type": "markdown",
   "id": "4a0f28b83a0a977a",
   "metadata": {
    "collapsed": false
   },
   "source": [
    "9.\tCréation et affichage d'un tableau qui contient la quantité d’événements de chaque type par marque"
   ]
  },
  {
   "cell_type": "code",
   "execution_count": null,
   "id": "1825ca8dc1eb86c3",
   "metadata": {
    "ExecuteTime": {
     "end_time": "2024-01-16T12:27:34.738584Z",
     "start_time": "2024-01-16T12:27:33.115351300Z"
    },
    "collapsed": false
   },
   "outputs": [],
   "source": [
    "ex = 9\n",
    "\n",
    "start_time = time.time()\n",
    "\n",
    "result = data.group_by(['event_type', 'brand']).agg(qty_events = pl.col('event_time').count())\n",
    "print(result.head())\n",
    "\n",
    "end_time = time.time()\n",
    "\n",
    "execution_time = round(end_time - start_time, 2)\n",
    "\n",
    "timing.loc[ex, 'Timing_Polars'] = execution_time\n",
    "\n",
    "print(f\"Temps d'exécution de l'exercise {ex} : {execution_time} secondes\")"
   ]
  },
  {
   "cell_type": "markdown",
   "id": "1e91a991194e2db8",
   "metadata": {
    "collapsed": false
   },
   "source": [
    "10. Création et affichage d'un tableau qui contient la quantité d’événements de chaque type par marque et utilisateur"
   ]
  },
  {
   "cell_type": "code",
   "execution_count": null,
   "id": "3df704eb64e411ad",
   "metadata": {
    "ExecuteTime": {
     "end_time": "2024-01-16T12:30:21.476614700Z",
     "start_time": "2024-01-16T12:30:16.436816400Z"
    },
    "collapsed": false
   },
   "outputs": [],
   "source": [
    "ex = 10\n",
    "\n",
    "start_time = time.time()\n",
    "\n",
    "result = data.group_by(['event_type', 'brand', 'user_id']).agg(qty_events = pl.col('event_time').count())\n",
    "print(result.head())\n",
    "\n",
    "end_time = time.time()\n",
    "\n",
    "execution_time = round(end_time - start_time, 2)\n",
    "\n",
    "timing.loc[ex, 'Timing_Polars'] = execution_time\n",
    "\n",
    "print(f\"Temps d'exécution de l'exercise {ex} : {execution_time} secondes\")"
   ]
  },
  {
   "cell_type": "markdown",
   "id": "5f6e11540b34f52b",
   "metadata": {
    "collapsed": false
   },
   "source": [
    "11. Affichage du percentage de données vides ou nulles par colonne"
   ]
  },
  {
   "cell_type": "code",
   "execution_count": null,
   "id": "baa8ca6c09589d5e",
   "metadata": {
    "ExecuteTime": {
     "end_time": "2024-01-16T12:34:15.936653700Z",
     "start_time": "2024-01-16T12:34:15.933752700Z"
    },
    "collapsed": false
   },
   "outputs": [],
   "source": [
    "ex = 11\n",
    "\n",
    "start_time = time.time()\n",
    "\n",
    "print(data.null_count() * 100 / data.height)\n",
    "\n",
    "end_time = time.time()\n",
    "\n",
    "execution_time = round(end_time - start_time, 2)\n",
    "\n",
    "timing.loc[ex, 'Timing_Polars'] = execution_time\n",
    "\n",
    "print(f\"Temps d'exécution de l'exercise {ex} : {execution_time} secondes\")"
   ]
  },
  {
   "cell_type": "markdown",
   "id": "1d8e2401e0519b5e",
   "metadata": {
    "collapsed": false
   },
   "source": [
    "12. Suppression de lignes vides si le total par colonne ne dépasse pâs 15%"
   ]
  },
  {
   "cell_type": "code",
   "execution_count": null,
   "id": "e180eb12ebe67af2",
   "metadata": {
    "ExecuteTime": {
     "end_time": "2024-01-16T12:48:14.946778400Z",
     "start_time": "2024-01-16T12:48:04.770178600Z"
    },
    "collapsed": false
   },
   "outputs": [],
   "source": [
    "ex = 12\n",
    "\n",
    "start_time = time.time()\n",
    "\n",
    "total = data.height\n",
    "print(f\"Total de lignes : {total}\")\n",
    "\n",
    "col_to_del = []\n",
    "\n",
    "for col in data.columns:\n",
    "    is_na = (data.select(pl.col(col)).null_count()*100/total).item()\n",
    "    if 0<is_na<15:\n",
    "        col_to_del.append(col)\n",
    "\n",
    "filtered_data = data.drop_nulls(subset=col_to_del)\n",
    "\n",
    "total = filtered_data.height\n",
    "print(f\"Total de lignes : {total}\")\n",
    "    \n",
    "end_time = time.time()\n",
    "\n",
    "execution_time = round(end_time - start_time, 2)\n",
    "\n",
    "timing.loc[ex, 'Timing_Polars'] = execution_time\n",
    "\n",
    "print(f\"Temps d'exécution de l'exercise {ex} : {execution_time} secondes\")"
   ]
  },
  {
   "cell_type": "code",
   "execution_count": null,
   "id": "3df64e3ba8c89cd3",
   "metadata": {
    "ExecuteTime": {
     "end_time": "2024-01-16T12:57:17.008500900Z",
     "start_time": "2024-01-16T12:57:17.002171Z"
    },
    "collapsed": false
   },
   "outputs": [],
   "source": [
    "timing"
   ]
  },
  {
   "cell_type": "code",
   "execution_count": null,
   "id": "6be4a40c9802f43c",
   "metadata": {
    "ExecuteTime": {
     "end_time": "2024-01-16T12:57:19.144986800Z",
     "start_time": "2024-01-16T12:57:19.137458900Z"
    },
    "collapsed": false
   },
   "outputs": [],
   "source": [
    "timing.to_csv(timing_path)"
   ]
  }
 ],
 "metadata": {
  "kernelspec": {
   "display_name": "Python 3",
   "language": "python",
   "name": "python3"
  },
  "language_info": {
   "codemirror_mode": {
    "name": "ipython",
    "version": 2
   },
   "file_extension": ".py",
   "mimetype": "text/x-python",
   "name": "python",
   "nbconvert_exporter": "python",
   "pygments_lexer": "ipython2",
   "version": "3.10.13"
  }
 },
 "nbformat": 4,
 "nbformat_minor": 5
}
