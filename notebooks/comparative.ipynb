{
 "cells": [
  {
   "cell_type": "code",
   "execution_count": null,
   "id": "28be4aa8",
   "metadata": {},
   "outputs": [],
   "source": [
    "!pip install matplotlib --upgrade --quiet\n",
    "!pip install pandas --upgrade --quiet"
   ]
  },
  {
   "cell_type": "code",
   "execution_count": null,
   "id": "initial_id",
   "metadata": {
    "ExecuteTime": {
     "end_time": "2024-01-17T07:54:46.687255900Z",
     "start_time": "2024-01-17T07:54:46.683625300Z"
    },
    "collapsed": true
   },
   "outputs": [],
   "source": [
    "import pandas as pd\n",
    "import matplotlib.pyplot as plt"
   ]
  },
  {
   "cell_type": "code",
   "execution_count": null,
   "id": "ea3478395acae3b2",
   "metadata": {
    "ExecuteTime": {
     "end_time": "2024-01-17T07:55:07.402777300Z",
     "start_time": "2024-01-17T07:55:07.395136800Z"
    },
    "collapsed": false
   },
   "outputs": [],
   "source": [
    "timing = pd.read_csv('../stats/timings.csv', index_col=0)\n",
    "timing"
   ]
  },
  {
   "cell_type": "code",
   "execution_count": null,
   "id": "ad652c38f9c3268d",
   "metadata": {
    "ExecuteTime": {
     "end_time": "2024-01-17T07:55:37.348199100Z",
     "start_time": "2024-01-17T07:55:37.252532200Z"
    },
    "collapsed": false
   },
   "outputs": [],
   "source": [
    "timing.plot(kind='bar', figsize=(10, 5))"
   ]
  },
  {
   "cell_type": "code",
   "execution_count": null,
   "id": "d19f4d5f6db43115",
   "metadata": {
    "ExecuteTime": {
     "end_time": "2024-01-17T07:56:10.027559Z",
     "start_time": "2024-01-17T07:56:09.944444300Z"
    },
    "collapsed": false
   },
   "outputs": [],
   "source": [
    "timing.cumsum().plot(kind='line', figsize=(10,5))"
   ]
  },
  {
   "cell_type": "markdown",
   "id": "6e82bcc3acb39015",
   "metadata": {
    "collapsed": false
   },
   "source": [
    "Lecture et affichage des données"
   ]
  },
  {
   "cell_type": "code",
   "execution_count": null,
   "id": "1198df21d8c198db",
   "metadata": {
    "ExecuteTime": {
     "end_time": "2024-01-17T07:59:41.019178400Z",
     "start_time": "2024-01-17T07:59:40.927095900Z"
    },
    "collapsed": false
   },
   "outputs": [],
   "source": [
    "bars = timing.columns\n",
    "colors = ['red', 'green']\n",
    "\n",
    "fig, ax = plt.subplots(1, 2, figsize=(10,5))\n",
    "\n",
    "ax[0].bar(bars, timing.loc[1], label=bars, color=colors)\n",
    "ax[0].set_title('Lecture')\n",
    "\n",
    "ax[1].bar(bars, timing.loc[2], label=bars, color=colors)\n",
    "ax[1].set_title('Affichage')\n",
    "\n",
    "plt.suptitle(\"Lecture et affichage de données\", fontsize=14)\n",
    "plt.show()"
   ]
  },
  {
   "cell_type": "markdown",
   "id": "b28ae0edd5eac471",
   "metadata": {
    "collapsed": false
   },
   "source": [
    "Fonctions d'aggrégation"
   ]
  },
  {
   "cell_type": "code",
   "execution_count": null,
   "id": "3b72f5b612ccded",
   "metadata": {
    "ExecuteTime": {
     "end_time": "2024-01-17T08:00:11.343926700Z",
     "start_time": "2024-01-17T08:00:11.137546700Z"
    },
    "collapsed": false
   },
   "outputs": [],
   "source": [
    "bars = timing.columns\n",
    "colors = ['red', 'green']\n",
    "\n",
    "fig, ax = plt.subplots(2, 3, figsize=(15,10))\n",
    "\n",
    "ax[0, 0].bar(bars, timing.loc[4], label=bars, color=colors)\n",
    "ax[0, 0].set_title('Exercise 4')\n",
    "\n",
    "ax[0, 1].bar(bars, timing.loc[5], label=bars, color=colors)\n",
    "ax[0, 1].set_title('Exercise 5')\n",
    "\n",
    "ax[0, 2].bar(bars, timing.loc[7], label=bars, color=colors)\n",
    "ax[0, 2].set_title('Exercise 7')\n",
    "\n",
    "ax[1, 0].bar(bars, timing.loc[8], label=bars, color=colors)\n",
    "ax[1, 0].set_title('Exercise 8')\n",
    "\n",
    "ax[1, 1].bar(bars, timing.loc[9], label=bars, color=colors)\n",
    "ax[1, 1].set_title('Exercise 9')\n",
    "\n",
    "ax[1, 2].bar(bars, timing.loc[10], label=bars, color=colors)\n",
    "ax[1, 2].set_title('Exercise 10')\n",
    "\n",
    "plt.suptitle(\"Fonctions d'aggrégation\", fontsize=14)\n",
    "plt.show()"
   ]
  },
  {
   "cell_type": "markdown",
   "id": "bec8665f7b575836",
   "metadata": {
    "collapsed": false
   },
   "source": [
    "Autres exercises"
   ]
  },
  {
   "cell_type": "code",
   "execution_count": null,
   "id": "d7f9829311b93463",
   "metadata": {
    "ExecuteTime": {
     "end_time": "2024-01-17T08:00:35.138110300Z",
     "start_time": "2024-01-17T08:00:34.972649900Z"
    },
    "collapsed": false
   },
   "outputs": [],
   "source": [
    "bars = timing.columns\n",
    "colors = ['red', 'green']\n",
    "\n",
    "fig, ax = plt.subplots(2, 2, figsize=(10,10))\n",
    "\n",
    "ax[0, 0].bar(bars, timing.loc[3], label=bars, color=colors)\n",
    "ax[0, 0].set_title('Exercise 3')\n",
    "\n",
    "ax[0, 1].bar(bars, timing.loc[6], label=bars, color=colors)\n",
    "ax[0, 1].set_title('Exercise 6')\n",
    "\n",
    "ax[1, 0].bar(bars, timing.loc[11], label=bars, color=colors)\n",
    "ax[1, 0].set_title('Exercise 11')\n",
    "\n",
    "ax[1, 1].bar(bars, timing.loc[12], label=bars, color=colors)\n",
    "ax[1, 1].set_title('Exercise 12')\n",
    "\n",
    "plt.suptitle(\"Autres fonctions\", fontsize=14)\n",
    "plt.show()"
   ]
  },
  {
   "cell_type": "code",
   "execution_count": null,
   "id": "fdf2be13d0e22614",
   "metadata": {
    "ExecuteTime": {
     "end_time": "2024-01-17T08:01:20.066113200Z",
     "start_time": "2024-01-17T08:01:20.017561600Z"
    },
    "collapsed": false
   },
   "outputs": [],
   "source": [
    "bars = timing.columns\n",
    "colors = ['red', 'green']\n",
    "\n",
    "plt.bar(bars, height = timing.sum(), color = colors)\n",
    "plt.suptitle(\"Temps total d'exécution du TP\", fontsize=14)\n",
    "plt.show()"
   ]
  },
  {
   "cell_type": "code",
   "execution_count": null,
   "id": "f2d2fe260479fc40",
   "metadata": {
    "ExecuteTime": {
     "end_time": "2024-01-17T08:01:32.841363400Z",
     "start_time": "2024-01-17T08:01:32.733018800Z"
    },
    "collapsed": false
   },
   "outputs": [],
   "source": [
    "y = range(0, len(timing))\n",
    "\n",
    "fig, axes = plt.subplots(ncols=2, sharey=True, figsize=(10, 5))\n",
    "\n",
    "axes[0].barh(y, timing['Timing_Pandas'], align='center', color='red')\n",
    "axes[0].set(yticks=y, yticklabels=timing.index.tolist(), xticks=[0, 10, 20, 30, 40, 50, 60, 70, 80], title='Pandas', ylabel=\"Exercise\", xlabel=\"secondes\")\n",
    "axes[0].invert_xaxis()\n",
    "\n",
    "axes[1].barh(y, timing['Timing_Polars'], align='center', color='green')\n",
    "axes[1].set(xticks=[0, 10, 20, 30, 40, 50, 60, 70, 80], title='Polars', xlabel=\"secondes\")\n",
    "\n",
    "plt.suptitle(\"Comparative de temps d'exécution\", fontsize=14)\n",
    "plt.subplots_adjust(wspace=0.0)\n",
    "plt.show()"
   ]
  },
  {
   "cell_type": "code",
   "execution_count": null,
   "id": "a40847e277017345",
   "metadata": {
    "ExecuteTime": {
     "end_time": "2024-01-17T08:34:00.905874300Z",
     "start_time": "2024-01-17T08:34:00.898227500Z"
    },
    "collapsed": false
   },
   "outputs": [],
   "source": [
    "for i in range(len(timing)):\n",
    "    pandas = timing.loc[i+1, 'Timing_Pandas']\n",
    "    polars = timing.loc[i+1, 'Timing_Polars']\n",
    "    per = 100-(polars/pandas*100)\n",
    "    \n",
    "    print(f\"Temps d'exécution pour l'exercise {i+1} ->\")\n",
    "    print(f\"Pandas : {pandas}s, Polars : {polars}s, soit {round(per, 2)}% plus rapide \\n\")\n",
    "\n",
    "total = timing.sum()\n",
    "per = 100-(total['Timing_Polars']/total['Timing_Pandas']*100)\n",
    "print(f\"Temps d'exécution total ->\")\n",
    "print(f\"Pandas : {total['Timing_Pandas']}s, Polars : {total['Timing_Polars']}s, soit {round(per, 2)}% plus rapide\")"
   ]
  }
 ],
 "metadata": {
  "kernelspec": {
   "display_name": "Python 3",
   "language": "python",
   "name": "python3"
  },
  "language_info": {
   "codemirror_mode": {
    "name": "ipython",
    "version": 2
   },
   "file_extension": ".py",
   "mimetype": "text/x-python",
   "name": "python",
   "nbconvert_exporter": "python",
   "pygments_lexer": "ipython2",
   "version": "2.7.6"
  }
 },
 "nbformat": 4,
 "nbformat_minor": 5
}
