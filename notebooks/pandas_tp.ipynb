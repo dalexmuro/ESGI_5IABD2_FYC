{
 "cells": [
  {
   "cell_type": "code",
   "execution_count": null,
   "id": "0b62f95f",
   "metadata": {},
   "outputs": [],
   "source": [
    "!pip install opendatasets --upgrade --quiet\n",
    "!pip install pandas --upgrade --quiet"
   ]
  },
  {
   "cell_type": "code",
   "execution_count": null,
   "id": "initial_id",
   "metadata": {
    "ExecuteTime": {
     "end_time": "2024-01-17T04:08:31.550155200Z",
     "start_time": "2024-01-17T04:08:31.547082200Z"
    },
    "collapsed": true
   },
   "outputs": [],
   "source": [
    "import pandas as pd\n",
    "import opendatasets as od\n",
    "import time\n",
    "import os"
   ]
  },
  {
   "cell_type": "code",
   "execution_count": null,
   "id": "deb363bf",
   "metadata": {},
   "outputs": [],
   "source": [
    "dataset = 'https://www.kaggle.com/datasets/mkechinov/ecommerce-behavior-data-from-multi-category-store'"
   ]
  },
  {
   "cell_type": "code",
   "execution_count": null,
   "id": "945b72a1cd881608",
   "metadata": {
    "ExecuteTime": {
     "end_time": "2024-01-16T06:00:39.723205Z",
     "start_time": "2024-01-16T06:00:39.720461400Z"
    },
    "collapsed": false
   },
   "outputs": [],
   "source": [
    "data_oct = './ecommerce-behavior-data-from-multi-category-store/2019-Oct.csv'\n",
    "data_nov = './ecommerce-behavior-data-from-multi-category-store/2019-Nov.csv'\n",
    "timing_path = '../stats/timings.csv' "
   ]
  },
  {
   "cell_type": "code",
   "execution_count": null,
   "id": "0e992014",
   "metadata": {},
   "outputs": [],
   "source": [
    "if not(os.path.exists(data_oct) and os.path.exists(data_nov)):\n",
    "    od.download(dataset)"
   ]
  },
  {
   "cell_type": "code",
   "execution_count": null,
   "id": "c267da5cd708a142",
   "metadata": {
    "ExecuteTime": {
     "end_time": "2024-01-16T06:01:26.793458Z",
     "start_time": "2024-01-16T06:01:26.791513200Z"
    },
    "collapsed": false
   },
   "outputs": [],
   "source": [
    "if os.path.exists(timing_path):\n",
    "    timing = pd.read_csv(timing_path, index_col=0)\n",
    "else:\n",
    "    timing = pd.DataFrame(columns=['Timing_Pandas', 'Timing_Polars'])"
   ]
  },
  {
   "cell_type": "markdown",
   "id": "b8fbac5f95cafdae",
   "metadata": {
    "collapsed": false
   },
   "source": [
    "1. Lecture des deux jeux de données et concatenation dans un seul dataset"
   ]
  },
  {
   "cell_type": "code",
   "execution_count": null,
   "id": "cb2039b85b04e6c",
   "metadata": {
    "ExecuteTime": {
     "end_time": "2024-01-16T06:40:19.721134100Z",
     "start_time": "2024-01-16T06:39:03.067516200Z"
    },
    "collapsed": false
   },
   "outputs": [],
   "source": [
    "ex = 1\n",
    "\n",
    "start_time = time.time()\n",
    "\n",
    "raw_data_oct = pd.read_csv(data_oct)\n",
    "raw_data_nov = pd.read_csv(data_nov)\n",
    "\n",
    "data = pd.concat([raw_data_oct, raw_data_nov])\n",
    "\n",
    "end_time = time.time()\n",
    "\n",
    "execution_time = round(end_time - start_time, 2)\n",
    "\n",
    "timing.loc[ex, 'Timing_Pandas'] = execution_time\n",
    "\n",
    "print(f\"Temps d'exécution de l'exercise {ex} : {execution_time} secondes\")"
   ]
  },
  {
   "cell_type": "markdown",
   "id": "5a80278a20771491",
   "metadata": {
    "collapsed": false
   },
   "source": [
    "2.\tAffichage des informations basiques du jeu de données : quantité de lignes, colonnes, types des données, etc."
   ]
  },
  {
   "cell_type": "code",
   "execution_count": null,
   "id": "7a9852e8c7e0d8a3",
   "metadata": {
    "ExecuteTime": {
     "end_time": "2024-01-16T06:49:27.709027600Z",
     "start_time": "2024-01-16T06:49:17.940876700Z"
    },
    "collapsed": false
   },
   "outputs": [],
   "source": [
    "ex = 2\n",
    "\n",
    "start_time = time.time()\n",
    "\n",
    "print(data.head())\n",
    "\n",
    "print(data.info())\n",
    "\n",
    "print(data.describe())\n",
    "\n",
    "end_time = time.time()\n",
    "\n",
    "execution_time = round(end_time - start_time, 2)\n",
    "\n",
    "timing.loc[ex, 'Timing_Pandas'] = execution_time\n",
    "\n",
    "print(f\"Temps d'exécution de l'exercise {ex} : {execution_time} secondes\")"
   ]
  },
  {
   "cell_type": "markdown",
   "id": "7cdec16a9d55245f",
   "metadata": {
    "collapsed": false
   },
   "source": [
    "3.\tAffichage de la quantité de produits, marques et utilisateurs dans le dataset, sans répétitions"
   ]
  },
  {
   "cell_type": "code",
   "execution_count": null,
   "id": "52b87c634f02c5f0",
   "metadata": {
    "ExecuteTime": {
     "end_time": "2024-01-16T07:12:35.907403400Z",
     "start_time": "2024-01-16T07:12:29.556125500Z"
    },
    "collapsed": false
   },
   "outputs": [],
   "source": [
    "ex = 3\n",
    "\n",
    "start_time = time.time()\n",
    "\n",
    "print(\"Quantité de produits uniques dans le dataset\")\n",
    "print(len(data['product_id'].unique()))\n",
    "\n",
    "print(\"Quantité de marques uniques dans le dataset\")\n",
    "print(len(data['brand'].unique()))\n",
    "\n",
    "print(\"Quantité d'utilisateurs uniques dans le dataset\")\n",
    "print(len(data['user_id'].unique()))\n",
    "\n",
    "end_time = time.time()\n",
    "\n",
    "execution_time = round(end_time - start_time, 2)\n",
    "\n",
    "timing.loc[ex, 'Timing_Pandas'] = execution_time\n",
    "\n",
    "print(f\"Temps d'exécution de l'exercise {ex} : {execution_time} secondes\")"
   ]
  },
  {
   "cell_type": "markdown",
   "id": "ed779d1181ec580b",
   "metadata": {
    "collapsed": false
   },
   "source": [
    "4. Affichage du top 5 de marques et catégories avec le prix moyen le plus élevé"
   ]
  },
  {
   "cell_type": "code",
   "execution_count": null,
   "id": "4b692ef1bc4dc6ed",
   "metadata": {
    "ExecuteTime": {
     "end_time": "2024-01-16T07:46:02.731472700Z",
     "start_time": "2024-01-16T07:45:57.136913Z"
    },
    "collapsed": false
   },
   "outputs": [],
   "source": [
    "ex = 4\n",
    "\n",
    "start_time = time.time()\n",
    "\n",
    "print(\"Top 5 de marques avec le prix moyen le plus élevé\")\n",
    "result_brand = data.groupby('brand').agg({'price' : 'mean'})\n",
    "result_brand.sort_values(by='price', ascending=False, inplace=True)\n",
    "print(result_brand.head(5))\n",
    "\n",
    "print(\"Top 5 de catégories avec le prix moyen le plus élevé\")\n",
    "result_category = data.groupby('category_id').agg({'price' : 'mean'})\n",
    "result_category.sort_values(by='price', ascending=False, inplace=True)\n",
    "print(result_category.head(5))\n",
    "\n",
    "end_time = time.time()\n",
    "\n",
    "execution_time = round(end_time - start_time, 2)\n",
    "\n",
    "timing.loc[ex, 'Timing_Pandas'] = execution_time\n",
    "\n",
    "print(f\"Temps d'exécution de l'exercise {ex} : {execution_time} secondes\")"
   ]
  },
  {
   "cell_type": "markdown",
   "id": "23bc4b06edaf6de2",
   "metadata": {
    "collapsed": false
   },
   "source": [
    "5.\tCalcul du min, max et moyenne de prix par marque et par catégorie"
   ]
  },
  {
   "cell_type": "code",
   "execution_count": null,
   "id": "bb44018e399776a8",
   "metadata": {
    "ExecuteTime": {
     "end_time": "2024-01-16T07:55:16.758990400Z",
     "start_time": "2024-01-16T07:55:06.851616400Z"
    },
    "collapsed": false
   },
   "outputs": [],
   "source": [
    "ex = 5\n",
    "\n",
    "start_time = time.time()\n",
    "\n",
    "print(\"Min, max et moyenne de prix par marque\")\n",
    "result_brand = data.groupby('brand').agg({'price' : ['min', 'max', 'mean']})\n",
    "print(result_brand.head(5))\n",
    "\n",
    "print(\"Min, max et moyenne de prix par catégorie\")\n",
    "result_category = data.groupby('brand').agg({'price' : ['min', 'max', 'mean']})\n",
    "print(result_category.head(5))\n",
    "\n",
    "end_time = time.time()\n",
    "\n",
    "execution_time = round(end_time - start_time, 2)\n",
    "\n",
    "timing.loc[ex, 'Timing_Pandas'] = execution_time\n",
    "\n",
    "print(f\"Temps d'exécution de l'exercise {ex} : {execution_time} secondes\")"
   ]
  },
  {
   "cell_type": "markdown",
   "id": "8a080db2e23fdd8e",
   "metadata": {
    "collapsed": false
   },
   "source": [
    "6.\tAffichage des 5 prix les plus élevés"
   ]
  },
  {
   "cell_type": "code",
   "execution_count": null,
   "id": "e53fdb96075c97dd",
   "metadata": {
    "ExecuteTime": {
     "end_time": "2024-01-16T08:13:49.837254900Z",
     "start_time": "2024-01-16T08:13:48.979884900Z"
    },
    "collapsed": false
   },
   "outputs": [],
   "source": [
    "ex = 6\n",
    "\n",
    "start_time = time.time()\n",
    "\n",
    "print(\"5 prix les plus élevés\")\n",
    "result = data['price'].drop_duplicates().sort_values(ascending=False)\n",
    "print(result.head(5).to_string(index=False))\n",
    "\n",
    "end_time = time.time()\n",
    "\n",
    "execution_time = round(end_time - start_time, 2)\n",
    "\n",
    "timing.loc[ex, 'Timing_Pandas'] = execution_time\n",
    "\n",
    "print(f\"Temps d'exécution de l'exercise {ex} : {execution_time} secondes\")"
   ]
  },
  {
   "cell_type": "markdown",
   "id": "ed7e34ccb694798b",
   "metadata": {
    "collapsed": false
   },
   "source": [
    "7.\tAffichage de la quantité d’articles par marque et par catégorie, en utilisant une fonction d’agrégation"
   ]
  },
  {
   "cell_type": "code",
   "execution_count": null,
   "id": "57981193b6d47d28",
   "metadata": {
    "ExecuteTime": {
     "end_time": "2024-01-16T08:20:50.572667200Z",
     "start_time": "2024-01-16T08:20:45.316506600Z"
    },
    "collapsed": false
   },
   "outputs": [],
   "source": [
    "ex = 7\n",
    "\n",
    "start_time = time.time()\n",
    "\n",
    "print(\"Quantité d’articles par marque, en utilisant une fonction d’agrégation\")\n",
    "result_brand = data.groupby('brand').agg({'product_id' : 'count'})\n",
    "print(result_brand.head(5))\n",
    "\n",
    "print(\"Quantité d’articles par catégorie, en utilisant une fonction d’agrégation\")\n",
    "result_category = data.groupby('category_id').agg({'product_id' : 'count'})\n",
    "print(result_category.head(5))\n",
    "\n",
    "end_time = time.time()\n",
    "\n",
    "execution_time = round(end_time - start_time, 2)\n",
    "\n",
    "timing.loc[ex, 'Timing_Pandas'] = execution_time\n",
    "\n",
    "print(f\"Temps d'exécution de l'exercise {ex} : {execution_time} secondes\")"
   ]
  },
  {
   "cell_type": "markdown",
   "id": "843cabd5c5af817c",
   "metadata": {
    "collapsed": false
   },
   "source": [
    "  8. Affichage de la quantité d’événements par type, en utilisant une fonction d’agrégation"
   ]
  },
  {
   "cell_type": "code",
   "execution_count": null,
   "id": "7f250b6d9a2cade4",
   "metadata": {
    "ExecuteTime": {
     "end_time": "2024-01-16T08:59:00.675388900Z",
     "start_time": "2024-01-16T08:58:56.336833700Z"
    },
    "collapsed": false
   },
   "outputs": [],
   "source": [
    "ex = 8\n",
    "\n",
    "start_time = time.time()\n",
    "\n",
    "print(\"Quantité d’événements par type\")\n",
    "result = data.groupby('event_type').agg({'event_time' : 'count'})\n",
    "result.reset_index(inplace=True)\n",
    "result.columns = ('Event_type', 'Event_qty')\n",
    "print(result.head(5))\n",
    "\n",
    "\n",
    "end_time = time.time()\n",
    "\n",
    "execution_time = round(end_time - start_time, 2)\n",
    "\n",
    "timing.loc[ex, 'Timing_Pandas'] = execution_time\n",
    "\n",
    "print(f\"Temps d'exécution de l'exercise {ex} : {execution_time} secondes\")"
   ]
  },
  {
   "cell_type": "markdown",
   "id": "4a0f28b83a0a977a",
   "metadata": {
    "collapsed": false
   },
   "source": [
    "9.\tCréation et affichage d'un tableau qui contient la quantité d’événements de chaque type par marque"
   ]
  },
  {
   "cell_type": "code",
   "execution_count": null,
   "id": "1825ca8dc1eb86c3",
   "metadata": {
    "ExecuteTime": {
     "end_time": "2024-01-16T09:09:17.742880500Z",
     "start_time": "2024-01-16T09:09:07.204601700Z"
    },
    "collapsed": false
   },
   "outputs": [],
   "source": [
    "ex = 9\n",
    "\n",
    "start_time = time.time()\n",
    "\n",
    "print(\"Quantité d’événements de chaque type par marque\")\n",
    "result = data.groupby(['event_type', 'brand']).agg({'event_time' : 'count'})\n",
    "result.reset_index(inplace=True)\n",
    "result.columns = ('Event_type', 'Brand', 'Event qty')\n",
    "print(result.head(5))\n",
    "\n",
    "end_time = time.time()\n",
    "\n",
    "execution_time = round(end_time - start_time, 2)\n",
    "\n",
    "timing.loc[ex, 'Timing_Pandas'] = execution_time\n",
    "\n",
    "print(f\"Temps d'exécution de l'exercise {ex} : {execution_time} secondes\")"
   ]
  },
  {
   "cell_type": "markdown",
   "id": "1e91a991194e2db8",
   "metadata": {
    "collapsed": false
   },
   "source": [
    "10. Création et affichage d'un tableau qui contient la quantité d’événements de chaque type par marque et utilisateur"
   ]
  },
  {
   "cell_type": "code",
   "execution_count": null,
   "id": "3df704eb64e411ad",
   "metadata": {
    "ExecuteTime": {
     "end_time": "2024-01-16T09:18:00.179992300Z",
     "start_time": "2024-01-16T09:17:33.515491100Z"
    },
    "collapsed": false
   },
   "outputs": [],
   "source": [
    "ex = 10\n",
    "\n",
    "start_time = time.time()\n",
    "\n",
    "print(\"Quantité d’événements de chaque type par marque et utilisateur\")\n",
    "result = data.groupby(['event_type', 'brand', 'user_id']).agg({'event_time' : 'count'})\n",
    "result.reset_index(inplace=True)\n",
    "result.columns = ('Event_type', 'Brand', 'User', 'Event qty')\n",
    "print(result.head(5))\n",
    "\n",
    "end_time = time.time()\n",
    "\n",
    "execution_time = round(end_time - start_time, 2)\n",
    "\n",
    "timing.loc[ex, 'Timing_Pandas'] = execution_time\n",
    "\n",
    "print(f\"Temps d'exécution de l'exercise {ex} : {execution_time} secondes\")"
   ]
  },
  {
   "cell_type": "markdown",
   "id": "5f6e11540b34f52b",
   "metadata": {
    "collapsed": false
   },
   "source": [
    "11. Affichage du percentage de données vides ou nulles par colonne"
   ]
  },
  {
   "cell_type": "code",
   "execution_count": null,
   "id": "baa8ca6c09589d5e",
   "metadata": {
    "ExecuteTime": {
     "end_time": "2024-01-16T09:31:21.594541200Z",
     "start_time": "2024-01-16T09:31:13.744439700Z"
    },
    "collapsed": false
   },
   "outputs": [],
   "source": [
    "ex = 11\n",
    "\n",
    "start_time = time.time()\n",
    "\n",
    "print(\"Percentage de données vides ou nulles par colonne\")\n",
    "total = len(data)\n",
    "for col in data.columns:\n",
    "    is_na = data[col].isna().sum()\n",
    "    print(f\"Valeurs manquantes dans la colonne {col} : {is_na} -> {round(100 * is_na/total, 2)}%\")\n",
    "\n",
    "end_time = time.time()\n",
    "\n",
    "execution_time = round(end_time - start_time, 2)\n",
    "\n",
    "timing.loc[ex, 'Timing_Pandas'] = execution_time\n",
    "\n",
    "print(f\"Temps d'exécution de l'exercise {ex} : {execution_time} secondes\")"
   ]
  },
  {
   "cell_type": "markdown",
   "id": "1d8e2401e0519b5e",
   "metadata": {
    "collapsed": false
   },
   "source": [
    "12. Suppression de lignes vides si le total par colonne ne dépasse pâs 15%"
   ]
  },
  {
   "cell_type": "code",
   "execution_count": null,
   "id": "e180eb12ebe67af2",
   "metadata": {
    "ExecuteTime": {
     "end_time": "2024-01-16T09:59:34.829630Z",
     "start_time": "2024-01-16T09:59:18.929267400Z"
    },
    "collapsed": false
   },
   "outputs": [],
   "source": [
    "ex = 12\n",
    "\n",
    "start_time = time.time()\n",
    "\n",
    "total = len(data)\n",
    "print(f\"Total de lignes : {total}\")\n",
    "\n",
    "col_to_del = []\n",
    "for col in data.columns:\n",
    "    is_na = data[col].isna().sum() * 100 / total\n",
    "    if 0<is_na<15:\n",
    "        col_to_del.append(col)\n",
    "        \n",
    "filtered_data = data.dropna(subset=col_to_del)\n",
    "\n",
    "total = len(filtered_data)\n",
    "print(f\"Total de lignes : {total}\")\n",
    "    \n",
    "end_time = time.time()\n",
    "\n",
    "execution_time = round(end_time - start_time, 2)\n",
    "\n",
    "timing.loc[ex, 'Timing_Pandas'] = execution_time\n",
    "\n",
    "print(f\"Temps d'exécution de l'exercise {ex} : {execution_time} secondes\")"
   ]
  },
  {
   "cell_type": "code",
   "execution_count": null,
   "id": "3df64e3ba8c89cd3",
   "metadata": {
    "ExecuteTime": {
     "end_time": "2024-01-16T10:02:58.848565200Z",
     "start_time": "2024-01-16T10:02:58.846061700Z"
    },
    "collapsed": false
   },
   "outputs": [],
   "source": [
    "timing"
   ]
  },
  {
   "cell_type": "code",
   "execution_count": null,
   "id": "6be4a40c9802f43c",
   "metadata": {
    "ExecuteTime": {
     "end_time": "2024-01-16T10:03:09.266764200Z",
     "start_time": "2024-01-16T10:03:09.260752700Z"
    },
    "collapsed": false
   },
   "outputs": [],
   "source": [
    "timing.to_csv(timing_path)"
   ]
  }
 ],
 "metadata": {
  "kernelspec": {
   "display_name": "Python 3",
   "language": "python",
   "name": "python3"
  },
  "language_info": {
   "codemirror_mode": {
    "name": "ipython",
    "version": 2
   },
   "file_extension": ".py",
   "mimetype": "text/x-python",
   "name": "python",
   "nbconvert_exporter": "python",
   "pygments_lexer": "ipython2",
   "version": "3.10.13"
  }
 },
 "nbformat": 4,
 "nbformat_minor": 5
}
