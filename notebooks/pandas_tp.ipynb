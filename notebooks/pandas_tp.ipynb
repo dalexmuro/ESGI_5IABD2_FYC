{
 "cells": [
  {
   "cell_type": "code",
   "execution_count": 84,
   "id": "initial_id",
   "metadata": {
    "collapsed": true,
    "ExecuteTime": {
     "end_time": "2024-01-17T04:08:31.550155200Z",
     "start_time": "2024-01-17T04:08:31.547082200Z"
    }
   },
   "outputs": [],
   "source": [
    "import pandas as pd\n",
    "import time\n",
    "import os"
   ]
  },
  {
   "cell_type": "code",
   "outputs": [],
   "source": [
    "data_oct = '../data/2019-Oct.csv'\n",
    "data_nov = '../data/2019-Nov.csv'\n",
    "timing_path = '../stats/timings.csv' "
   ],
   "metadata": {
    "collapsed": false,
    "ExecuteTime": {
     "end_time": "2024-01-16T06:00:39.723205Z",
     "start_time": "2024-01-16T06:00:39.720461400Z"
    }
   },
   "id": "945b72a1cd881608",
   "execution_count": 5
  },
  {
   "cell_type": "code",
   "outputs": [],
   "source": [
    "if os.path.exists(timing_path):\n",
    "    timing = pd.read_csv(timing_path, index_col=0)\n",
    "else:\n",
    "    timing = pd.DataFrame(columns=['Timing_Pandas', 'Timing_Polars'])"
   ],
   "metadata": {
    "collapsed": false,
    "ExecuteTime": {
     "end_time": "2024-01-16T06:01:26.793458Z",
     "start_time": "2024-01-16T06:01:26.791513200Z"
    }
   },
   "id": "c267da5cd708a142",
   "execution_count": 6
  },
  {
   "cell_type": "markdown",
   "source": [
    "1. Lecture des deux jeux de données et concatenation dans un seul dataset"
   ],
   "metadata": {
    "collapsed": false
   },
   "id": "b8fbac5f95cafdae"
  },
  {
   "cell_type": "code",
   "outputs": [
    {
     "name": "stdout",
     "output_type": "stream",
     "text": [
      "Temps d'exécution de l'exercise 1 : 76.65 secondes\n"
     ]
    }
   ],
   "source": [
    "ex = 1\n",
    "\n",
    "start_time = time.time()\n",
    "\n",
    "raw_data_oct = pd.read_csv(data_oct)\n",
    "raw_data_nov = pd.read_csv(data_nov)\n",
    "\n",
    "data = pd.concat([raw_data_oct, raw_data_nov])\n",
    "\n",
    "end_time = time.time()\n",
    "\n",
    "execution_time = round(end_time - start_time, 2)\n",
    "\n",
    "timing.loc[ex, 'Timing_Pandas'] = execution_time\n",
    "\n",
    "print(f\"Temps d'exécution de l'exercise {ex} : {execution_time} secondes\")"
   ],
   "metadata": {
    "collapsed": false,
    "ExecuteTime": {
     "end_time": "2024-01-16T06:40:19.721134100Z",
     "start_time": "2024-01-16T06:39:03.067516200Z"
    }
   },
   "id": "cb2039b85b04e6c",
   "execution_count": 8
  },
  {
   "cell_type": "markdown",
   "source": [
    "2.\tAffichage des informations basiques du jeu de données : quantité de lignes, colonnes, types des données, etc."
   ],
   "metadata": {
    "collapsed": false
   },
   "id": "5a80278a20771491"
  },
  {
   "cell_type": "code",
   "outputs": [
    {
     "name": "stdout",
     "output_type": "stream",
     "text": [
      "                event_time event_type  product_id          category_id  \\\n",
      "0  2019-10-01 00:00:00 UTC       view    44600062  2103807459595387724   \n",
      "1  2019-10-01 00:00:00 UTC       view     3900821  2053013552326770905   \n",
      "2  2019-10-01 00:00:01 UTC       view    17200506  2053013559792632471   \n",
      "3  2019-10-01 00:00:01 UTC       view     1307067  2053013558920217191   \n",
      "4  2019-10-01 00:00:04 UTC       view     1004237  2053013555631882655   \n",
      "\n",
      "                         category_code     brand    price    user_id  \\\n",
      "0                                  NaN  shiseido    35.79  541312140   \n",
      "1  appliances.environment.water_heater      aqua    33.20  554748717   \n",
      "2           furniture.living_room.sofa       NaN   543.10  519107250   \n",
      "3                   computers.notebook    lenovo   251.74  550050854   \n",
      "4               electronics.smartphone     apple  1081.98  535871217   \n",
      "\n",
      "                           user_session  \n",
      "0  72d76fde-8bb3-4e00-8c23-a032dfed738c  \n",
      "1  9333dfbd-b87a-4708-9857-6336556b0fcc  \n",
      "2  566511c2-e2e3-422b-b695-cf8e6e792ca8  \n",
      "3  7c90fc70-0e80-4590-96f3-13c02c18c713  \n",
      "4  c6bd7419-2748-4c56-95b4-8cec9ff8b80d  \n",
      "<class 'pandas.core.frame.DataFrame'>\n",
      "Index: 109950743 entries, 0 to 67501978\n",
      "Data columns (total 9 columns):\n",
      " #   Column         Dtype  \n",
      "---  ------         -----  \n",
      " 0   event_time     object \n",
      " 1   event_type     object \n",
      " 2   product_id     int64  \n",
      " 3   category_id    int64  \n",
      " 4   category_code  object \n",
      " 5   brand          object \n",
      " 6   price          float64\n",
      " 7   user_id        int64  \n",
      " 8   user_session   object \n",
      "dtypes: float64(1), int64(3), object(5)\n",
      "memory usage: 8.2+ GB\n",
      "None\n",
      "         product_id   category_id         price       user_id\n",
      "count  1.099507e+08  1.099507e+08  1.099507e+08  1.099507e+08\n",
      "mean   1.175577e+07  2.057707e+18  2.916348e+02  5.366698e+08\n",
      "std    1.543564e+07  1.949326e+16  3.566800e+02  2.145173e+07\n",
      "min    1.000365e+06  2.053014e+18  0.000000e+00  1.030022e+07\n",
      "25%    1.005256e+06  2.053014e+18  6.796000e+01  5.162629e+08\n",
      "50%    5.100396e+06  2.053014e+18  1.649300e+02  5.326415e+08\n",
      "75%    1.720051e+07  2.053014e+18  3.601100e+02  5.563312e+08\n",
      "max    1.000286e+08  2.187708e+18  2.574070e+03  5.799699e+08\n",
      "Temps d'exécution de l'exercise 2 : 9.76 secondes\n"
     ]
    }
   ],
   "source": [
    "ex = 2\n",
    "\n",
    "start_time = time.time()\n",
    "\n",
    "print(data.head())\n",
    "\n",
    "print(data.info())\n",
    "\n",
    "print(data.describe())\n",
    "\n",
    "end_time = time.time()\n",
    "\n",
    "execution_time = round(end_time - start_time, 2)\n",
    "\n",
    "timing.loc[ex, 'Timing_Pandas'] = execution_time\n",
    "\n",
    "print(f\"Temps d'exécution de l'exercise {ex} : {execution_time} secondes\")"
   ],
   "metadata": {
    "collapsed": false,
    "ExecuteTime": {
     "end_time": "2024-01-16T06:49:27.709027600Z",
     "start_time": "2024-01-16T06:49:17.940876700Z"
    }
   },
   "id": "7a9852e8c7e0d8a3",
   "execution_count": 13
  },
  {
   "cell_type": "markdown",
   "source": [
    "3.\tAffichage de la quantité de produits, marques et utilisateurs dans le dataset, sans répétitions"
   ],
   "metadata": {
    "collapsed": false
   },
   "id": "7cdec16a9d55245f"
  },
  {
   "cell_type": "code",
   "outputs": [
    {
     "name": "stdout",
     "output_type": "stream",
     "text": [
      "Quantité de produits uniques dans le dataset\n",
      "206876\n",
      "Quantité de marques uniques dans le dataset\n",
      "4303\n",
      "Quantité d'utilisateurs uniques dans le dataset\n",
      "5316649\n",
      "Temps d'exécution de l'exercise 3 : 6.35 secondes\n"
     ]
    }
   ],
   "source": [
    "ex = 3\n",
    "\n",
    "start_time = time.time()\n",
    "\n",
    "print(\"Quantité de produits uniques dans le dataset\")\n",
    "print(len(data['product_id'].unique()))\n",
    "\n",
    "print(\"Quantité de marques uniques dans le dataset\")\n",
    "print(len(data['brand'].unique()))\n",
    "\n",
    "print(\"Quantité d'utilisateurs uniques dans le dataset\")\n",
    "print(len(data['user_id'].unique()))\n",
    "\n",
    "end_time = time.time()\n",
    "\n",
    "execution_time = round(end_time - start_time, 2)\n",
    "\n",
    "timing.loc[ex, 'Timing_Pandas'] = execution_time\n",
    "\n",
    "print(f\"Temps d'exécution de l'exercise {ex} : {execution_time} secondes\")"
   ],
   "metadata": {
    "collapsed": false,
    "ExecuteTime": {
     "end_time": "2024-01-16T07:12:35.907403400Z",
     "start_time": "2024-01-16T07:12:29.556125500Z"
    }
   },
   "id": "52b87c634f02c5f0",
   "execution_count": 18
  },
  {
   "cell_type": "markdown",
   "source": [
    "4. Affichage du top 5 de marques et catégories avec le prix moyen le plus élevé"
   ],
   "metadata": {
    "collapsed": false
   },
   "id": "ed779d1181ec580b"
  },
  {
   "cell_type": "code",
   "outputs": [
    {
     "name": "stdout",
     "output_type": "stream",
     "text": [
      "Top 5 de marques avec le prix moyen le plus élevé\n",
      "                   price\n",
      "brand                   \n",
      "pinarello    2533.238401\n",
      "nordictrack  2522.590000\n",
      "kessler      2372.000000\n",
      "yjfitness    2344.980000\n",
      "climadiff    2261.951167\n",
      "Top 5 de catégories avec le prix moyen le plus élevé\n",
      "                           price\n",
      "category_id                     \n",
      "2104564977263182827  1673.140000\n",
      "2059484601444729123  1666.933341\n",
      "2053013564523807647  1527.039375\n",
      "2144356630513320518  1489.794378\n",
      "2179887855134835524  1381.505340\n",
      "Temps d'exécution de l'exercise 4 : 5.59 secondes\n"
     ]
    }
   ],
   "source": [
    "ex = 4\n",
    "\n",
    "start_time = time.time()\n",
    "\n",
    "print(\"Top 5 de marques avec le prix moyen le plus élevé\")\n",
    "result_brand = data.groupby('brand').agg({'price' : 'mean'})\n",
    "result_brand.sort_values(by='price', ascending=False, inplace=True)\n",
    "print(result_brand.head(5))\n",
    "\n",
    "print(\"Top 5 de catégories avec le prix moyen le plus élevé\")\n",
    "result_category = data.groupby('category_id').agg({'price' : 'mean'})\n",
    "result_category.sort_values(by='price', ascending=False, inplace=True)\n",
    "print(result_category.head(5))\n",
    "\n",
    "end_time = time.time()\n",
    "\n",
    "execution_time = round(end_time - start_time, 2)\n",
    "\n",
    "timing.loc[ex, 'Timing_Pandas'] = execution_time\n",
    "\n",
    "print(f\"Temps d'exécution de l'exercise {ex} : {execution_time} secondes\")"
   ],
   "metadata": {
    "collapsed": false,
    "ExecuteTime": {
     "end_time": "2024-01-16T07:46:02.731472700Z",
     "start_time": "2024-01-16T07:45:57.136913Z"
    }
   },
   "id": "4b692ef1bc4dc6ed",
   "execution_count": 27
  },
  {
   "cell_type": "markdown",
   "source": [
    "5.\tCalcul du min, max et moyenne de prix par marque et par catégorie"
   ],
   "metadata": {
    "collapsed": false
   },
   "id": "23bc4b06edaf6de2"
  },
  {
   "cell_type": "code",
   "outputs": [
    {
     "name": "stdout",
     "output_type": "stream",
     "text": [
      "Min, max et moyenne de prix par marque\n",
      "          price                   \n",
      "            min     max       mean\n",
      "brand                             \n",
      "a-case     1.21  154.44  12.142794\n",
      "a-derma    5.15   22.39  13.906379\n",
      "a-elita    8.49   73.28  45.051727\n",
      "a-mega    25.74  218.80  84.286734\n",
      "aardwolf   8.98   84.43  39.057414\n",
      "Min, max et moyenne de prix par catégorie\n",
      "          price                   \n",
      "            min     max       mean\n",
      "brand                             \n",
      "a-case     1.21  154.44  12.142794\n",
      "a-derma    5.15   22.39  13.906379\n",
      "a-elita    8.49   73.28  45.051727\n",
      "a-mega    25.74  218.80  84.286734\n",
      "aardwolf   8.98   84.43  39.057414\n",
      "Temps d'exécution de l'exercise 5 : 9.9 secondes\n"
     ]
    }
   ],
   "source": [
    "ex = 5\n",
    "\n",
    "start_time = time.time()\n",
    "\n",
    "print(\"Min, max et moyenne de prix par marque\")\n",
    "result_brand = data.groupby('brand').agg({'price' : ['min', 'max', 'mean']})\n",
    "print(result_brand.head(5))\n",
    "\n",
    "print(\"Min, max et moyenne de prix par catégorie\")\n",
    "result_category = data.groupby('brand').agg({'price' : ['min', 'max', 'mean']})\n",
    "print(result_category.head(5))\n",
    "\n",
    "end_time = time.time()\n",
    "\n",
    "execution_time = round(end_time - start_time, 2)\n",
    "\n",
    "timing.loc[ex, 'Timing_Pandas'] = execution_time\n",
    "\n",
    "print(f\"Temps d'exécution de l'exercise {ex} : {execution_time} secondes\")"
   ],
   "metadata": {
    "collapsed": false,
    "ExecuteTime": {
     "end_time": "2024-01-16T07:55:16.758990400Z",
     "start_time": "2024-01-16T07:55:06.851616400Z"
    }
   },
   "id": "bb44018e399776a8",
   "execution_count": 28
  },
  {
   "cell_type": "markdown",
   "source": [
    "6.\tAffichage des 5 prix les plus élevés"
   ],
   "metadata": {
    "collapsed": false
   },
   "id": "8a080db2e23fdd8e"
  },
  {
   "cell_type": "code",
   "outputs": [
    {
     "name": "stdout",
     "output_type": "stream",
     "text": [
      "5 prix les plus élevés\n",
      "2574.07\n",
      "2574.04\n",
      "2573.99\n",
      "2573.81\n",
      "2573.79\n",
      "Temps d'exécution de l'exercise 6 : 0.86 secondes\n"
     ]
    }
   ],
   "source": [
    "ex = 6\n",
    "\n",
    "start_time = time.time()\n",
    "\n",
    "print(\"5 prix les plus élevés\")\n",
    "result = data['price'].drop_duplicates().sort_values(ascending=False)\n",
    "print(result.head(5).to_string(index=False))\n",
    "\n",
    "end_time = time.time()\n",
    "\n",
    "execution_time = round(end_time - start_time, 2)\n",
    "\n",
    "timing.loc[ex, 'Timing_Pandas'] = execution_time\n",
    "\n",
    "print(f\"Temps d'exécution de l'exercise {ex} : {execution_time} secondes\")"
   ],
   "metadata": {
    "collapsed": false,
    "ExecuteTime": {
     "end_time": "2024-01-16T08:13:49.837254900Z",
     "start_time": "2024-01-16T08:13:48.979884900Z"
    }
   },
   "id": "e53fdb96075c97dd",
   "execution_count": 57
  },
  {
   "cell_type": "markdown",
   "source": [
    "7.\tAffichage de la quantité d’articles par marque et par catégorie, en utilisant une fonction d’agrégation"
   ],
   "metadata": {
    "collapsed": false
   },
   "id": "ed7e34ccb694798b"
  },
  {
   "cell_type": "code",
   "outputs": [
    {
     "name": "stdout",
     "output_type": "stream",
     "text": [
      "Quantité d’articles par marque, en utilisant une fonction d’agrégation\n",
      "          product_id\n",
      "brand               \n",
      "a-case         19503\n",
      "a-derma          729\n",
      "a-elita          521\n",
      "a-mega          1384\n",
      "aardwolf         526\n",
      "Quantité d’articles par catégorie, en utilisant une fonction d’agrégation\n",
      "                     product_id\n",
      "category_id                    \n",
      "2053013552226107603        5644\n",
      "2053013552259662037      302746\n",
      "2053013552293216471      444842\n",
      "2053013552326770905      354845\n",
      "2053013552351936731      140952\n",
      "Temps d'exécution de l'exercise 7 : 5.25 secondes\n"
     ]
    }
   ],
   "source": [
    "ex = 7\n",
    "\n",
    "start_time = time.time()\n",
    "\n",
    "print(\"Quantité d’articles par marque, en utilisant une fonction d’agrégation\")\n",
    "result_brand = data.groupby('brand').agg({'product_id' : 'count'})\n",
    "print(result_brand.head(5))\n",
    "\n",
    "print(\"Quantité d’articles par catégorie, en utilisant une fonction d’agrégation\")\n",
    "result_category = data.groupby('category_id').agg({'product_id' : 'count'})\n",
    "print(result_category.head(5))\n",
    "\n",
    "end_time = time.time()\n",
    "\n",
    "execution_time = round(end_time - start_time, 2)\n",
    "\n",
    "timing.loc[ex, 'Timing_Pandas'] = execution_time\n",
    "\n",
    "print(f\"Temps d'exécution de l'exercise {ex} : {execution_time} secondes\")"
   ],
   "metadata": {
    "collapsed": false,
    "ExecuteTime": {
     "end_time": "2024-01-16T08:20:50.572667200Z",
     "start_time": "2024-01-16T08:20:45.316506600Z"
    }
   },
   "id": "57981193b6d47d28",
   "execution_count": 59
  },
  {
   "cell_type": "markdown",
   "source": [
    "  8. Affichage de la quantité d’événements par type, en utilisant une fonction d’agrégation"
   ],
   "metadata": {
    "collapsed": false
   },
   "id": "843cabd5c5af817c"
  },
  {
   "cell_type": "code",
   "outputs": [
    {
     "name": "stdout",
     "output_type": "stream",
     "text": [
      "Quantité d’événements par type\n",
      "  Event_type  Event_qty\n",
      "0       cart    3955446\n",
      "1   purchase    1659788\n",
      "2       view  104335509\n",
      "Temps d'exécution de l'exercise 8 : 4.34 secondes\n"
     ]
    }
   ],
   "source": [
    "ex = 8\n",
    "\n",
    "start_time = time.time()\n",
    "\n",
    "print(\"Quantité d’événements par type\")\n",
    "result = data.groupby('event_type').agg({'event_time' : 'count'})\n",
    "result.reset_index(inplace=True)\n",
    "result.columns = ('Event_type', 'Event_qty')\n",
    "print(result.head(5))\n",
    "\n",
    "\n",
    "end_time = time.time()\n",
    "\n",
    "execution_time = round(end_time - start_time, 2)\n",
    "\n",
    "timing.loc[ex, 'Timing_Pandas'] = execution_time\n",
    "\n",
    "print(f\"Temps d'exécution de l'exercise {ex} : {execution_time} secondes\")"
   ],
   "metadata": {
    "collapsed": false,
    "ExecuteTime": {
     "end_time": "2024-01-16T08:59:00.675388900Z",
     "start_time": "2024-01-16T08:58:56.336833700Z"
    }
   },
   "id": "7f250b6d9a2cade4",
   "execution_count": 72
  },
  {
   "cell_type": "markdown",
   "source": [
    "9.\tCréation et affichage d'un tableau qui contient la quantité d’événements de chaque type par marque"
   ],
   "metadata": {
    "collapsed": false
   },
   "id": "4a0f28b83a0a977a"
  },
  {
   "cell_type": "code",
   "outputs": [
    {
     "name": "stdout",
     "output_type": "stream",
     "text": [
      "Quantité d’événements de chaque type par marque\n",
      "  Event_type     Brand  Event qty\n",
      "0       cart    a-case        326\n",
      "1       cart   a-derma         23\n",
      "2       cart   a-elita          8\n",
      "3       cart    a-mega         29\n",
      "4       cart  aardwolf         13\n",
      "Temps d'exécution de l'exercise 9 : 10.54 secondes\n"
     ]
    }
   ],
   "source": [
    "ex = 9\n",
    "\n",
    "start_time = time.time()\n",
    "\n",
    "print(\"Quantité d’événements de chaque type par marque\")\n",
    "result = data.groupby(['event_type', 'brand']).agg({'event_time' : 'count'})\n",
    "result.reset_index(inplace=True)\n",
    "result.columns = ('Event_type', 'Brand', 'Event qty')\n",
    "print(result.head(5))\n",
    "\n",
    "end_time = time.time()\n",
    "\n",
    "execution_time = round(end_time - start_time, 2)\n",
    "\n",
    "timing.loc[ex, 'Timing_Pandas'] = execution_time\n",
    "\n",
    "print(f\"Temps d'exécution de l'exercise {ex} : {execution_time} secondes\")"
   ],
   "metadata": {
    "collapsed": false,
    "ExecuteTime": {
     "end_time": "2024-01-16T09:09:17.742880500Z",
     "start_time": "2024-01-16T09:09:07.204601700Z"
    }
   },
   "id": "1825ca8dc1eb86c3",
   "execution_count": 73
  },
  {
   "cell_type": "markdown",
   "source": [
    "10. Création et affichage d'un tableau qui contient la quantité d’événements de chaque type par marque et utilisateur"
   ],
   "metadata": {
    "collapsed": false
   },
   "id": "1e91a991194e2db8"
  },
  {
   "cell_type": "code",
   "outputs": [
    {
     "name": "stdout",
     "output_type": "stream",
     "text": [
      "Quantité d’événements de chaque type par marque et utilisateur\n",
      "  Event_type   Brand       User  Event qty\n",
      "0       cart  a-case  512417359          1\n",
      "1       cart  a-case  512842481          1\n",
      "2       cart  a-case  512848407          1\n",
      "3       cart  a-case  512885998          1\n",
      "4       cart  a-case  512993513          2\n",
      "Temps d'exécution de l'exercise 10 : 26.66 secondes\n"
     ]
    }
   ],
   "source": [
    "ex = 10\n",
    "\n",
    "start_time = time.time()\n",
    "\n",
    "print(\"Quantité d’événements de chaque type par marque et utilisateur\")\n",
    "result = data.groupby(['event_type', 'brand', 'user_id']).agg({'event_time' : 'count'})\n",
    "result.reset_index(inplace=True)\n",
    "result.columns = ('Event_type', 'Brand', 'User', 'Event qty')\n",
    "print(result.head(5))\n",
    "\n",
    "end_time = time.time()\n",
    "\n",
    "execution_time = round(end_time - start_time, 2)\n",
    "\n",
    "timing.loc[ex, 'Timing_Pandas'] = execution_time\n",
    "\n",
    "print(f\"Temps d'exécution de l'exercise {ex} : {execution_time} secondes\")"
   ],
   "metadata": {
    "collapsed": false,
    "ExecuteTime": {
     "end_time": "2024-01-16T09:18:00.179992300Z",
     "start_time": "2024-01-16T09:17:33.515491100Z"
    }
   },
   "id": "3df704eb64e411ad",
   "execution_count": 75
  },
  {
   "cell_type": "markdown",
   "source": [
    "11. Affichage du percentage de données vides ou nulles par colonne"
   ],
   "metadata": {
    "collapsed": false
   },
   "id": "5f6e11540b34f52b"
  },
  {
   "cell_type": "code",
   "outputs": [
    {
     "name": "stdout",
     "output_type": "stream",
     "text": [
      "Percentage de données vides ou nulles par colonne\n",
      "Valeurs manquantes dans la colonne event_time : 0 -> 0.0%\n",
      "Valeurs manquantes dans la colonne event_type : 0 -> 0.0%\n",
      "Valeurs manquantes dans la colonne product_id : 0 -> 0.0%\n",
      "Valeurs manquantes dans la colonne category_id : 0 -> 0.0%\n",
      "Valeurs manquantes dans la colonne category_code : 35413780 -> 32.21%\n",
      "Valeurs manquantes dans la colonne brand : 15341158 -> 13.95%\n",
      "Valeurs manquantes dans la colonne price : 0 -> 0.0%\n",
      "Valeurs manquantes dans la colonne user_id : 0 -> 0.0%\n",
      "Valeurs manquantes dans la colonne user_session : 12 -> 0.0%\n",
      "Temps d'exécution de l'exercise 11 : 7.84 secondes\n"
     ]
    }
   ],
   "source": [
    "ex = 11\n",
    "\n",
    "start_time = time.time()\n",
    "\n",
    "print(\"Percentage de données vides ou nulles par colonne\")\n",
    "total = len(data)\n",
    "for col in data.columns:\n",
    "    is_na = data[col].isna().sum()\n",
    "    print(f\"Valeurs manquantes dans la colonne {col} : {is_na} -> {round(100 * is_na/total, 2)}%\")\n",
    "\n",
    "end_time = time.time()\n",
    "\n",
    "execution_time = round(end_time - start_time, 2)\n",
    "\n",
    "timing.loc[ex, 'Timing_Pandas'] = execution_time\n",
    "\n",
    "print(f\"Temps d'exécution de l'exercise {ex} : {execution_time} secondes\")"
   ],
   "metadata": {
    "collapsed": false,
    "ExecuteTime": {
     "end_time": "2024-01-16T09:31:21.594541200Z",
     "start_time": "2024-01-16T09:31:13.744439700Z"
    }
   },
   "id": "baa8ca6c09589d5e",
   "execution_count": 78
  },
  {
   "cell_type": "markdown",
   "source": [
    "12. Suppression de lignes vides si le total par colonne ne dépasse pâs 15%"
   ],
   "metadata": {
    "collapsed": false
   },
   "id": "1d8e2401e0519b5e"
  },
  {
   "cell_type": "code",
   "outputs": [
    {
     "name": "stdout",
     "output_type": "stream",
     "text": [
      "Total de lignes : 109950743\n",
      "Total de lignes : 94609575\n",
      "Temps d'exécution de l'exercise 12 : 15.89 secondes\n"
     ]
    }
   ],
   "source": [
    "ex = 12\n",
    "\n",
    "start_time = time.time()\n",
    "\n",
    "total = len(data)\n",
    "print(f\"Total de lignes : {total}\")\n",
    "\n",
    "col_to_del = []\n",
    "for col in data.columns:\n",
    "    is_na = data[col].isna().sum() * 100 / total\n",
    "    if 0<is_na<15:\n",
    "        col_to_del.append(col)\n",
    "        \n",
    "filtered_data = data.dropna(subset=col_to_del)\n",
    "\n",
    "total = len(filtered_data)\n",
    "print(f\"Total de lignes : {total}\")\n",
    "    \n",
    "end_time = time.time()\n",
    "\n",
    "execution_time = round(end_time - start_time, 2)\n",
    "\n",
    "timing.loc[ex, 'Timing_Pandas'] = execution_time\n",
    "\n",
    "print(f\"Temps d'exécution de l'exercise {ex} : {execution_time} secondes\")"
   ],
   "metadata": {
    "collapsed": false,
    "ExecuteTime": {
     "end_time": "2024-01-16T09:59:34.829630Z",
     "start_time": "2024-01-16T09:59:18.929267400Z"
    }
   },
   "id": "e180eb12ebe67af2",
   "execution_count": 79
  },
  {
   "cell_type": "code",
   "outputs": [
    {
     "data": {
      "text/plain": "   Timing_Pandas Timing_Polars\n1          76.65           NaN\n2           9.76           NaN\n3           6.35           NaN\n4           5.59           NaN\n5            9.9           NaN\n6           0.86           NaN\n7           5.25           NaN\n8           4.34           NaN\n9          10.54           NaN\n0           26.7           NaN\n10         26.66           NaN\n11          7.84           NaN\n12         15.89           NaN",
      "text/html": "<div>\n<style scoped>\n    .dataframe tbody tr th:only-of-type {\n        vertical-align: middle;\n    }\n\n    .dataframe tbody tr th {\n        vertical-align: top;\n    }\n\n    .dataframe thead th {\n        text-align: right;\n    }\n</style>\n<table border=\"1\" class=\"dataframe\">\n  <thead>\n    <tr style=\"text-align: right;\">\n      <th></th>\n      <th>Timing_Pandas</th>\n      <th>Timing_Polars</th>\n    </tr>\n  </thead>\n  <tbody>\n    <tr>\n      <th>1</th>\n      <td>76.65</td>\n      <td>NaN</td>\n    </tr>\n    <tr>\n      <th>2</th>\n      <td>9.76</td>\n      <td>NaN</td>\n    </tr>\n    <tr>\n      <th>3</th>\n      <td>6.35</td>\n      <td>NaN</td>\n    </tr>\n    <tr>\n      <th>4</th>\n      <td>5.59</td>\n      <td>NaN</td>\n    </tr>\n    <tr>\n      <th>5</th>\n      <td>9.9</td>\n      <td>NaN</td>\n    </tr>\n    <tr>\n      <th>6</th>\n      <td>0.86</td>\n      <td>NaN</td>\n    </tr>\n    <tr>\n      <th>7</th>\n      <td>5.25</td>\n      <td>NaN</td>\n    </tr>\n    <tr>\n      <th>8</th>\n      <td>4.34</td>\n      <td>NaN</td>\n    </tr>\n    <tr>\n      <th>9</th>\n      <td>10.54</td>\n      <td>NaN</td>\n    </tr>\n    <tr>\n      <th>0</th>\n      <td>26.7</td>\n      <td>NaN</td>\n    </tr>\n    <tr>\n      <th>10</th>\n      <td>26.66</td>\n      <td>NaN</td>\n    </tr>\n    <tr>\n      <th>11</th>\n      <td>7.84</td>\n      <td>NaN</td>\n    </tr>\n    <tr>\n      <th>12</th>\n      <td>15.89</td>\n      <td>NaN</td>\n    </tr>\n  </tbody>\n</table>\n</div>"
     },
     "execution_count": 82,
     "metadata": {},
     "output_type": "execute_result"
    }
   ],
   "source": [
    "timing"
   ],
   "metadata": {
    "collapsed": false,
    "ExecuteTime": {
     "end_time": "2024-01-16T10:02:58.848565200Z",
     "start_time": "2024-01-16T10:02:58.846061700Z"
    }
   },
   "id": "3df64e3ba8c89cd3",
   "execution_count": 82
  },
  {
   "cell_type": "code",
   "outputs": [],
   "source": [
    "timing.to_csv(timing_path)"
   ],
   "metadata": {
    "collapsed": false,
    "ExecuteTime": {
     "end_time": "2024-01-16T10:03:09.266764200Z",
     "start_time": "2024-01-16T10:03:09.260752700Z"
    }
   },
   "id": "6be4a40c9802f43c",
   "execution_count": 83
  }
 ],
 "metadata": {
  "kernelspec": {
   "display_name": "Python 3",
   "language": "python",
   "name": "python3"
  },
  "language_info": {
   "codemirror_mode": {
    "name": "ipython",
    "version": 2
   },
   "file_extension": ".py",
   "mimetype": "text/x-python",
   "name": "python",
   "nbconvert_exporter": "python",
   "pygments_lexer": "ipython2",
   "version": "2.7.6"
  }
 },
 "nbformat": 4,
 "nbformat_minor": 5
}
